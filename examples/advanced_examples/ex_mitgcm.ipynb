{
 "cells": [
  {
   "cell_type": "markdown",
   "metadata": {},
   "source": [
    "# Using MITGCM data\n",
    "\n",
    "In this example we will generate structure functions from MITGCM ECCO data. \n",
    "\n",
    "**General procedure:**\n",
    "\n",
    "1. Load data\n",
    "2. Format data\n",
    "3. Calculate structure functions\n",
    "4. Plot structure functions"
   ]
  },
  {
   "cell_type": "code",
   "execution_count": null,
   "metadata": {},
   "outputs": [],
   "source": [
    "import warnings\n",
    "\n",
    "import matplotlib.pyplot as plt\n",
    "import matplotlib_inline.backend_inline\n",
    "import numpy as np\n",
    "import seaborn as sns\n",
    "import xarray as xr\n",
    "from geopy.distance import great_circle\n",
    "\n",
    "import fluidsf\n",
    "\n",
    "warnings.filterwarnings(\"ignore\")  # Ignore warnings for the purpose of this tutorial\n",
    "\n",
    "sns.set_style(style=\"white\")\n",
    "sns.set_context(\"talk\")\n",
    "matplotlib_inline.backend_inline.set_matplotlib_formats(\"png\", dpi=200)"
   ]
  },
  {
   "cell_type": "markdown",
   "metadata": {},
   "source": [
    "## Load the ECCO file and vizualize the data\n",
    "\n",
    "We will use `xarray` to load the `nc` file. The file used in this example is in the Antarctic Circumpolar Current. We select `time=0` and `k=0` to get one snapshot of the simulation and the surface velocities.\n",
    "\n",
    "**Note**: The ECCO data is not provided in the FluidSF repository, so you must instead access the data through [PO.DAAC](https://podaac.jpl.nasa.gov/dataset/MITgcm_LLC4320_Pre-SWOT_JPL_L4_ACC_SMST_v1.0) or other methods. "
   ]
  },
  {
   "cell_type": "code",
   "execution_count": null,
   "metadata": {},
   "outputs": [],
   "source": [
    "ds = xr.open_dataset(\"/path/to/ecco/data.nc\")"
   ]
  },
  {
   "cell_type": "code",
   "execution_count": null,
   "metadata": {},
   "outputs": [],
   "source": [
    "ds = ds.isel(time=0, k=0)"
   ]
  },
  {
   "cell_type": "code",
   "execution_count": null,
   "metadata": {},
   "outputs": [],
   "source": [
    "ds.U.plot.pcolormesh(cmap=\"RdBu\", vmin=-1.5, vmax=1.5)\n",
    "plt.show()\n",
    "\n",
    "ds.V.plot.pcolormesh(cmap=\"RdBu\", vmin=-1.5, vmax=1.5)\n",
    "plt.show()"
   ]
  },
  {
   "cell_type": "markdown",
   "metadata": {},
   "source": [
    "## Calculate structure functions\n",
    "\n",
    "For data in latitude-longitude format, FluidSF expects 2D arrays of latitudes (`lats`) and longitudes (`lons`). \n",
    "\n",
    "Binning is required and FluidSF will set `nbins` by default to the length of the smallest spatial dimension. Here we set `nbins=100`."
   ]
  },
  {
   "cell_type": "code",
   "execution_count": null,
   "metadata": {},
   "outputs": [],
   "source": [
    "sf = fluidsf.generate_structure_functions_2d(\n",
    "    u=ds.U.values,\n",
    "    v=ds.V.values,\n",
    "    lons=ds.XC.values,\n",
    "    lats=ds.YC.values,\n",
    "    sf_type=[\"ASF_V\", \"LLL\"],\n",
    "    boundary=None,\n",
    "    grid_type=\"latlon\",\n",
    "    nbins=100,\n",
    ")"
   ]
  },
  {
   "cell_type": "markdown",
   "metadata": {},
   "source": [
    "## Plot the structure functions with cascade rate scaling"
   ]
  },
  {
   "cell_type": "code",
   "execution_count": null,
   "metadata": {},
   "outputs": [],
   "source": [
    "plt.semilogx(\n",
    "    sf[\"x-diffs\"] / 1e3,\n",
    "    sf[\"SF_advection_velocity_x\"] / 2,\n",
    "    color=\"tab:blue\",\n",
    "    label=\"ASF$_V$\",\n",
    ")\n",
    "\n",
    "plt.semilogx(\n",
    "    sf[\"x-diffs\"] / 1e3,\n",
    "    2 * sf[\"SF_LLL_x\"] / (3 * sf[\"x-diffs\"]),\n",
    "    color=\"tab:red\",\n",
    "    label=\"SF$_{LLL}$\",\n",
    ")\n",
    "\n",
    "plt.xlabel(\"Separation distance [km]\")\n",
    "plt.ylabel(\"Inverse energy cascade [m$^2$s$^{-3}$]\")\n",
    "plt.xlim(1e0, 1e3)\n",
    "plt.ylim(-4e-7, 2e-7)\n",
    "plt.hlines(0, 1e0, 1e3, color=\"black\", lw=0.5);"
   ]
  }
 ],
 "metadata": {
  "kernelspec": {
   "display_name": "py311",
   "language": "python",
   "name": "python3"
  },
  "language_info": {
   "codemirror_mode": {
    "name": "ipython",
    "version": 3
   },
   "file_extension": ".py",
   "mimetype": "text/x-python",
   "name": "python",
   "nbconvert_exporter": "python",
   "pygments_lexer": "ipython3",
   "version": "3.11.6"
  }
 },
 "nbformat": 4,
 "nbformat_minor": 2
}
