{
 "cells": [
  {
   "cell_type": "markdown",
   "metadata": {},
   "source": [
    "# Structure functions with 1D data\n",
    "\n",
    "This example will guide you through calculating structure functions with 1D velocity data. \n",
    "\n",
    "**General procedure**:\n",
    "\n",
    "1. Generate a 1D velocity field\n",
    "2. Calculate different types of structure functions\n",
    "3. Plot the structure functions as a function of separation distance"
   ]
  },
  {
   "cell_type": "code",
   "execution_count": null,
   "metadata": {},
   "outputs": [],
   "source": [
    "import warnings\n",
    "\n",
    "import matplotlib_inline.backend_inline\n",
    "import numpy as np\n",
    "import seaborn as sns\n",
    "\n",
    "warnings.filterwarnings(\"ignore\")  # Ignore warnings for the purpose of this tutorial\n",
    "\n",
    "sns.set_style(style=\"white\")\n",
    "sns.set_context(\"talk\")\n",
    "\n",
    "matplotlib_inline.backend_inline.set_matplotlib_formats(\"png\", dpi=200)"
   ]
  },
  {
   "cell_type": "markdown",
   "metadata": {},
   "source": [
    "## Create 1D data\n",
    "We will generate u and v velocity arrays that increase linearly. The v velocity will be half the magnitude of the u velocity. We will also create an arbitrary scalar array at half the magnitude of the v velocity."
   ]
  },
  {
   "cell_type": "code",
   "execution_count": null,
   "metadata": {},
   "outputs": [],
   "source": [
    "nx = 100\n",
    "x = np.linspace(0, 1, nx)\n",
    "u = x\n",
    "v = 0.5 * x\n",
    "scalar = 0.25 * x"
   ]
  },
  {
   "cell_type": "code",
   "execution_count": null,
   "metadata": {},
   "outputs": [],
   "source": [
    "import matplotlib.pyplot as plt\n",
    "\n",
    "fig, ax = plt.subplots()\n",
    "ax.plot(x, u, label=\"u\")\n",
    "ax.plot(x, v, label=\"v\", linestyle=\"--\")\n",
    "ax.plot(x, scalar, label=\"scalar\", linestyle=\":\")\n",
    "ax.set_xlabel(\"x\")\n",
    "ax.legend()\n",
    "plt.show()"
   ]
  },
  {
   "cell_type": "markdown",
   "metadata": {},
   "source": [
    "## Calculate various velocity-based structure functions\n",
    "We will calculate two different structure functions at the same time with this step. You can choose different structure functions by changing the argument `sf_type`. Accepted strings are `LL`, `LLL`, `LTT`, and `LSS`."
   ]
  },
  {
   "cell_type": "code",
   "execution_count": null,
   "metadata": {},
   "outputs": [],
   "source": [
    "import fluidsf\n",
    "\n",
    "sf = fluidsf.generate_structure_functions_1d(\n",
    "    u=u, x=x, sf_type=[\"LL\", \"LLL\"], boundary=None\n",
    ")"
   ]
  },
  {
   "cell_type": "markdown",
   "metadata": {},
   "source": [
    "Check which keys have data in the `sf` dictionary. Other keys are available but have been initialized to `None`."
   ]
  },
  {
   "cell_type": "code",
   "execution_count": null,
   "metadata": {},
   "outputs": [],
   "source": [
    "for key in sf.keys():\n",
    "    if sf[key] is not None:\n",
    "        print(key)"
   ]
  },
  {
   "cell_type": "markdown",
   "metadata": {},
   "source": [
    "**Note**: if you include `LTT` and/or `LSS` you must provide arguments for `v` and `scalar`, respectively. Otherwise FluidSF will raise an error. \n",
    "\n",
    "Now let's calculate all the possible structure functions."
   ]
  },
  {
   "cell_type": "code",
   "execution_count": null,
   "metadata": {},
   "outputs": [],
   "source": [
    "sf_all = fluidsf.generate_structure_functions_1d(\n",
    "    u=u, v=v, scalar=scalar, x=x, sf_type=[\"LL\", \"LLL\", \"LTT\", \"LSS\"], boundary=None\n",
    ")"
   ]
  },
  {
   "cell_type": "code",
   "execution_count": null,
   "metadata": {},
   "outputs": [],
   "source": [
    "for key in sf_all.keys():\n",
    "    if sf_all[key] is not None:\n",
    "        print(key)"
   ]
  },
  {
   "cell_type": "markdown",
   "metadata": {},
   "source": [
    "## Plot structure functions and compare"
   ]
  },
  {
   "cell_type": "code",
   "execution_count": null,
   "metadata": {},
   "outputs": [],
   "source": [
    "fig, ax = plt.subplots()\n",
    "ax.loglog(sf_all[\"x-diffs\"], sf_all[\"SF_LL\"], label=\"LL(r)\", color=\"C0\")\n",
    "ax.loglog(sf_all[\"x-diffs\"], sf_all[\"SF_LLL\"], label=\"LLL(r)\", color=\"C1\")\n",
    "ax.loglog(sf_all[\"x-diffs\"], sf_all[\"SF_LTT\"], label=\"LTT(r)\", color=\"C2\")\n",
    "ax.loglog(sf_all[\"x-diffs\"], sf_all[\"SF_LSS\"], label=\"LSS(r)\", color=\"C3\")\n",
    "ax.loglog(sf_all[\"x-diffs\"], sf_all[\"x-diffs\"] ** 2, color=\"k\", linestyle=(0, (5, 10)))\n",
    "ax.loglog(sf_all[\"x-diffs\"], sf_all[\"x-diffs\"] ** 3, color=\"k\", linestyle=(0, (5, 10)))\n",
    "ax.loglog(\n",
    "    sf[\"x-diffs\"],\n",
    "    0.25 * sf[\"x-diffs\"] ** 3,\n",
    "    color=\"k\",\n",
    "    linestyle=(0, (5, 10)),\n",
    ")\n",
    "ax.loglog(\n",
    "    sf[\"x-diffs\"],\n",
    "    (1/16) * sf[\"x-diffs\"] ** 3,\n",
    "    color=\"k\",\n",
    "    linestyle=(0, (5, 10)),\n",
    ")\n",
    "\n",
    "ax.annotate(\n",
    "    r\"$r^{2}$\",\n",
    "    (0.2, 0.56),\n",
    "    textcoords=\"axes fraction\",\n",
    "    color=\"k\",\n",
    ")\n",
    "\n",
    "ax.annotate(\n",
    "    r\"$r^{3}$\",\n",
    "    (0.2, 0.37),\n",
    "    textcoords=\"axes fraction\",\n",
    "    color=\"k\",\n",
    ")\n",
    "\n",
    "plt.hlines(0, 0, 1, color=\"k\", lw=1, zorder=0)\n",
    "ax.set_xlabel(\"Separation distance (r)\")\n",
    "ax.set_ylabel(\"Structure function (SF(r))\")\n",
    "ax.legend(loc=\"lower right\")\n",
    "plt.show()"
   ]
  }
 ],
 "metadata": {
  "kernelspec": {
   "display_name": "py311",
   "language": "python",
   "name": "python3"
  },
  "language_info": {
   "codemirror_mode": {
    "name": "ipython",
    "version": 3
   },
   "file_extension": ".py",
   "mimetype": "text/x-python",
   "name": "python",
   "nbconvert_exporter": "python",
   "pygments_lexer": "ipython3",
   "version": "3.11.6"
  }
 },
 "nbformat": 4,
 "nbformat_minor": 2
}
