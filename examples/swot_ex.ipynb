{
 "cells": [
  {
   "cell_type": "markdown",
   "metadata": {},
   "source": [
    "# Using SWOT satellite altimetry"
   ]
  },
  {
   "cell_type": "markdown",
   "metadata": {},
   "source": [
    "This example will guide you through each step required to estimate energy cascade rates from a single SWOT KaRIn swath.\n",
    "\n",
    "**General procedure**\n",
    "\n",
    "1. Load and visualize the SWOT sea surface height anomaly (SSHA) data\n",
    "2. Use SSHA to estimate geostrophic velocities\n",
    "3. Subset the data to a small region\n",
    "4. Calculate various structure functions from the geostrophic velocities in the subset region\n",
    "5. Estimate cascade rates from the structure functions\n",
    "6. Plot cascade rates\n",
    "7. Plot 2nd order structure functions"
   ]
  },
  {
   "cell_type": "code",
   "execution_count": null,
   "metadata": {},
   "outputs": [],
   "source": [
    "import matplotlib_inline.backend_inline\n",
    "import seaborn as sns\n",
    "\n",
    "sns.set_style(style=\"white\")\n",
    "sns.set_context(\"talk\")\n",
    "\n",
    "matplotlib_inline.backend_inline.set_matplotlib_formats(\"png\", dpi=200)"
   ]
  },
  {
   "cell_type": "markdown",
   "metadata": {},
   "source": [
    "## Load the SWOT NetCDF file and visualize the data\n",
    "\n",
    "We will use `xarray` to load the `.nc` file. We are using the Expert version of SWOT Level-3 LR SSH v1.0, available through AVISO. This version includes estimates of geostrophic velocity along with improved data post-processing. It is possible to estimate geostrophic velocities from SSH data only, which is available in the Basic version of Level-3 and Level-2. \n",
    "\n",
    "**_Note:_** The SWOT data is not provided in the FluidSF repository, so you must instead access the data through [PO.DAAC](https://podaac.jpl.nasa.gov/SWOT?tab=mission-objectives&sections=about%2Bdata), [AVISO](https://www.aviso.altimetry.fr/en/data/products/sea-surface-height-products/global.html), or other methods. This example uses L3 data, accessible through AVISO."
   ]
  },
  {
   "cell_type": "code",
   "execution_count": null,
   "metadata": {},
   "outputs": [],
   "source": [
    "import xarray as xr\n",
    "\n",
    "# Provide the path to the SWOT data you have downloaded\n",
    "ds = xr.open_dataset('example_data/SWOT_L3_LR_SSH_Expert_SAMPLE.nc') "
   ]
  },
  {
   "cell_type": "code",
   "execution_count": null,
   "metadata": {},
   "outputs": [],
   "source": [
    "ds"
   ]
  },
  {
   "cell_type": "markdown",
   "metadata": {},
   "source": [
    "## Plot the SSH anomaly data with and without noise removal"
   ]
  },
  {
   "cell_type": "code",
   "execution_count": null,
   "metadata": {},
   "outputs": [],
   "source": [
    "import cartopy.crs as ccrs\n",
    "import matplotlib.pyplot as plt\n",
    "\n",
    "localbox = [-90, -30, 20, 60]\n",
    "localbox_subset = [-49, -41, 44, 50]\n",
    "\n",
    "fig, (ax1, ax2) = plt.subplots(2, 1, figsize=(12, 12), \n",
    "                               subplot_kw={\"projection\": ccrs.PlateCarree()})\n",
    "ax1.set_extent(localbox)\n",
    "ax2.set_extent(localbox)\n",
    "plot_kwargs = {\n",
    "    \"x\": \"longitude\",\n",
    "    \"y\": \"latitude\",\n",
    "    \"cmap\": \"Spectral_r\",\n",
    "    \"vmin\": -0.2,\n",
    "    \"vmax\": 0.2,\n",
    "    \"cbar_kwargs\": {\"shrink\": 0.9},}\n",
    "\n",
    "# Plot SSHA with and without noise removal\n",
    "ds.ssha.plot.pcolormesh(ax=ax1, **plot_kwargs)\n",
    "ds.ssha_noiseless.plot.pcolormesh(ax=ax2, **plot_kwargs)\n",
    "ax1.coastlines()\n",
    "gl1 = ax1.gridlines(draw_labels=True)\n",
    "gl1.top_labels = False\n",
    "gl1.right_labels = False\n",
    "gl1.bottom_labels = False\n",
    "ax2.coastlines()\n",
    "gl2 = ax2.gridlines(draw_labels=True)\n",
    "gl2.top_labels = False\n",
    "gl2.right_labels = False\n",
    "\n",
    "plt.tight_layout()"
   ]
  },
  {
   "cell_type": "markdown",
   "metadata": {},
   "source": [
    "## Plot the zonal geostrophic velocity"
   ]
  },
  {
   "cell_type": "code",
   "execution_count": null,
   "metadata": {},
   "outputs": [],
   "source": [
    "fig, (ax1, ax2) = plt.subplots(2, 1, figsize=(12, 12), \n",
    "                               subplot_kw={\"projection\": ccrs.PlateCarree()})\n",
    "ax1.set_extent(localbox)\n",
    "ax2.set_extent(localbox_subset)\n",
    "plot_kwargs = {\n",
    "    \"x\": \"longitude\",\n",
    "    \"y\": \"latitude\",\n",
    "    \"cmap\": \"RdBu_r\",\n",
    "    \"vmin\": -1,\n",
    "    \"vmax\": 1,\n",
    "    \"cbar_kwargs\": {\"shrink\": 0.9},}\n",
    "\n",
    "# Plot geostrophic zonal velocity in large and small domains\n",
    "ds.ugos.plot.pcolormesh(ax=ax1, **plot_kwargs)\n",
    "ds.ugos.plot.pcolormesh(ax=ax2, **plot_kwargs)\n",
    "ax1.coastlines()\n",
    "gl1 = ax1.gridlines(draw_labels=True)\n",
    "gl1.top_labels = False\n",
    "gl1.right_labels = False\n",
    "ax2.coastlines()\n",
    "gl2 = ax2.gridlines(draw_labels=True)\n",
    "gl2.top_labels = False\n",
    "gl2.right_labels = False\n",
    "\n",
    "plt.tight_layout()"
   ]
  },
  {
   "cell_type": "markdown",
   "metadata": {},
   "source": [
    "## Calculate the velocity-based structure functions\n",
    "\n",
    "We'll calculate multiple types of structure functions here, including traditional 2nd (`SF_LL`) and 3rd (`SF_LLL`) order and advective structure functions (`SF_advection_velocity`). We calculate the structure functions in two directions, across the swath (`_x`) and along the swath (`_y`). FluidSF also calculates the separation distances in both directions (`x-diffs` and `y-diffs`)."
   ]
  },
  {
   "cell_type": "code",
   "execution_count": null,
   "metadata": {},
   "outputs": [],
   "source": [
    "import warnings\n",
    "\n",
    "import fluidsf\n",
    "\n",
    "warnings.filterwarnings(\"ignore\") # Ignore warnings for the purpose of this tutorial\n",
    "\n",
    "# Subset the data to a smaller region\n",
    "ds_cut = ds.where(\n",
    "            (ds.latitude > localbox_subset[2])\n",
    "            & (ds.latitude < localbox_subset[3])\n",
    "            & (ds.longitude < 360+localbox_subset[1])\n",
    "            & (ds.longitude > 360+localbox_subset[0]),\n",
    "            drop=True,\n",
    "        )\n",
    "\n",
    "# Define the grid spacing in meters\n",
    "dx = 2000 \n",
    "dy = 2000\n",
    "\n",
    "# Define x and y positions based on number of pixels and lines and dx/dy\n",
    "x = dx * ds_cut.num_pixels.values\n",
    "y = dy * ds_cut.num_lines.values\n",
    "\n",
    "# Compute the structure functions\n",
    "sf = fluidsf.generate_structure_functions_2d(u = ds_cut.ugos.data, v = ds_cut.vgos.data, \n",
    "                                          x = x, y = y, sf_type=[\"ASF_V\", \"LLL\", \"LL\"], \n",
    "                                          boundary=None, grid_type=\"uniform\")"
   ]
  },
  {
   "cell_type": "markdown",
   "metadata": {},
   "source": [
    "Check which keys have data in the `sf` dictionary. Other keys are available but have been initialized to `None`."
   ]
  },
  {
   "cell_type": "code",
   "execution_count": null,
   "metadata": {},
   "outputs": [],
   "source": [
    "for key in sf.keys():\n",
    "    if sf[key] is not None:\n",
    "        print(key)"
   ]
  },
  {
   "cell_type": "markdown",
   "metadata": {},
   "source": [
    "## Estimate cascade rates with the structure functions"
   ]
  },
  {
   "cell_type": "code",
   "execution_count": null,
   "metadata": {},
   "outputs": [],
   "source": [
    "sf['SF_LLL_x_epsilon'] = sf[\"SF_LLL_x\"]/(3*sf[\"x-diffs\"]/2)\n",
    "sf['SF_LLL_y_epsilon'] = sf[\"SF_LLL_y\"]/(3*sf[\"y-diffs\"]/2)\n",
    "\n",
    "sf['SF_advection_velocity_x_epsilon'] = sf[\"SF_advection_velocity_x\"]/2\n",
    "sf['SF_advection_velocity_y_epsilon'] = sf[\"SF_advection_velocity_y\"]/2"
   ]
  },
  {
   "cell_type": "markdown",
   "metadata": {},
   "source": [
    "## Plot the cascade rates\n",
    "\n",
    "We computed two types of structure functions (advective and traditional 3rd order) in the across-track (`x`) and along-track (`y`) directions, so we will plot 4 different estimates of the cascade rate as a function of separation distance (in km)."
   ]
  },
  {
   "cell_type": "code",
   "execution_count": null,
   "metadata": {},
   "outputs": [],
   "source": [
    "fig, ax = plt.subplots(figsize=(9,6))\n",
    "\n",
    "# Plot the cascade rates derived from traditional third order structure functions\n",
    "plt.semilogx(sf[\"x-diffs\"]/1e3, sf['SF_LLL_x_epsilon'], label=\"LLL across-track\",\n",
    "             color='tab:blue', linestyle=':')\n",
    "plt.semilogx(sf[\"y-diffs\"]/1e3, sf['SF_LLL_y_epsilon'], label=\"LLL along-track\", \n",
    "             color='tab:blue', linestyle='-')\n",
    "\n",
    "# Plot the cascade rates derived from advective structure functions\n",
    "plt.semilogx(sf[\"x-diffs\"]/1e3, sf['SF_advection_velocity_x_epsilon'], \n",
    "             label=\"ASF_V across-track\", color='tab:red', linestyle=':')\n",
    "plt.semilogx(sf[\"y-diffs\"]/1e3, sf['SF_advection_velocity_y_epsilon'], \n",
    "             label=\"ASF_V along-track\", color='tab:red', linestyle='-')\n",
    "\n",
    "plt.hlines(0, 1e0, 1e3, lw=1, color=\"k\",zorder=0)\n",
    "plt.xlim(1e0, 1e3)\n",
    "plt.ylim(-5e-7, 5e-7)\n",
    "plt.xlabel(\"Separation distance [km]\")\n",
    "plt.ylabel(r\"Inverse energy cascade rate [m$^2$s$^{-3}$]\")\n",
    "plt.legend()\n",
    "\n",
    "plt.tight_layout()"
   ]
  },
  {
   "cell_type": "markdown",
   "metadata": {},
   "source": [
    "## Plot the 2nd order traditional structure functions\n",
    "These structure functions are related to the energy spectrum and are therefore also useful for analysis. "
   ]
  },
  {
   "cell_type": "code",
   "execution_count": null,
   "metadata": {},
   "outputs": [],
   "source": [
    "fig, ax = plt.subplots(figsize=(9,6))\n",
    "\n",
    "\n",
    "plt.loglog(sf[\"x-diffs\"][1:]/1e3, sf['SF_LL_x'][1:], label=\"Across-track\",\n",
    "           color='tab:blue', linestyle=':')\n",
    "plt.loglog(sf[\"y-diffs\"]/1e3, sf['SF_LL_y'], label=\"Along-track\",\n",
    "           color='tab:blue', linestyle='-')\n",
    "\n",
    "plt.xlim(1e0, 1e3)\n",
    "plt.xlabel(\"Separation distance [km]\")\n",
    "plt.ylabel(\"LL structure function\")\n",
    "plt.legend()\n",
    "\n",
    "plt.tight_layout()"
   ]
  },
  {
   "cell_type": "markdown",
   "metadata": {},
   "source": [
    "## Binned structure functions\n",
    "\n",
    "You can also provide an argument to `fluidsf.generate_structure_functions_2d()` that bins the data. This may be useful when you have more data in one direction."
   ]
  },
  {
   "cell_type": "code",
   "execution_count": null,
   "metadata": {},
   "outputs": [],
   "source": [
    "sf_binned = fluidsf.generate_structure_functions_2d(u = ds_cut.ugos.data, \n",
    "                                                 v = ds_cut.vgos.data, \n",
    "                                                 x = x, y = y, \n",
    "                                                 sf_type=[\"LL\"], \n",
    "                                                 boundary=None, grid_type=\"uniform\", \n",
    "                                                 nbins=20)"
   ]
  },
  {
   "cell_type": "code",
   "execution_count": null,
   "metadata": {},
   "outputs": [],
   "source": [
    "fig, ax = plt.subplots(figsize=(9,6))\n",
    "\n",
    "\n",
    "plt.loglog(sf_binned[\"x-diffs\"][1:]/1e3, sf_binned['SF_LL_x'][1:], label=\"Across-track\",\n",
    "           color='tab:blue', linestyle=':')\n",
    "plt.loglog(sf_binned[\"y-diffs\"]/1e3, sf_binned['SF_LL_y'], label=\"Along-track\",\n",
    "           color='tab:blue', linestyle='-')\n",
    "\n",
    "plt.xlim(1e0, 1e3)\n",
    "plt.xlabel(\"Separation distance [km]\")\n",
    "plt.ylabel(\"LL structure function\")\n",
    "plt.legend()\n",
    "\n",
    "plt.tight_layout()"
   ]
  }
 ],
 "metadata": {
  "kernelspec": {
   "display_name": "py311",
   "language": "python",
   "name": "python3"
  },
  "language_info": {
   "codemirror_mode": {
    "name": "ipython",
    "version": 3
   },
   "file_extension": ".py",
   "mimetype": "text/x-python",
   "name": "python",
   "nbconvert_exporter": "python",
   "pygments_lexer": "ipython3",
   "version": "3.11.6"
  }
 },
 "nbformat": 4,
 "nbformat_minor": 2
}
