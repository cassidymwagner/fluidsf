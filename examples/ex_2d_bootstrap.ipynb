{
 "cells": [
  {
   "cell_type": "markdown",
   "metadata": {},
   "source": [
    "# Structure functions for multiple snapshots or observations with bootstrapping"
   ]
  },
  {
   "cell_type": "markdown",
   "metadata": {},
   "source": [
    "This example will guide you through calculating structure functions for multiple snapshots of a 2D simulation of surface ocean velocity. \n",
    "\n",
    "**General procedure:**\n",
    "\n",
    "1. Load a dataset generated with GeophysicalFlows.jl\n",
    "2. Format the dataset\n",
    "3. For each snapshot, calculate velocity-based structure functions for the zonal and meridional directions as a function of separation distance\n",
    "4. Use scipy's bootstrapping method to estimate the mean structure functions and generate confidence intervals\n",
    "5. Plot the mean structure functions and shade the confidence intervals"
   ]
  },
  {
   "cell_type": "code",
   "execution_count": null,
   "metadata": {
    "tags": []
   },
   "outputs": [],
   "source": [
    "import matplotlib_inline.backend_inline\n",
    "import seaborn as sns\n",
    "\n",
    "sns.set_style(style=\"white\")\n",
    "sns.set_context(\"talk\")\n",
    "\n",
    "matplotlib_inline.backend_inline.set_matplotlib_formats(\"png\", dpi=200)"
   ]
  },
  {
   "cell_type": "markdown",
   "metadata": {},
   "source": [
    "### Load the dataset generated with GeophysicalFlows.jl\n",
    "We will use `h5py` to load a `.jld2` file, the output from `GeophysicalFlows.jl`, a numerical ocean simulator written in Julia."
   ]
  },
  {
   "cell_type": "code",
   "execution_count": null,
   "metadata": {},
   "outputs": [],
   "source": [
    "import h5py\n",
    "   \n",
    "f = h5py.File('example_data/2layer_128.jld2', 'r')\n",
    "grid = f['grid']\n",
    "snapshots = f['snapshots']\n",
    "\n",
    "# Initialize the grid of x and y coordinates\n",
    "x = grid['x'][()]\n",
    "y = grid['y'][()]\n",
    "\n",
    "# Grab u, v, and q for all snapshots and layers (we will just use the top layer)\n",
    "u = snapshots['u']\n",
    "v = snapshots['v']\n",
    "q = snapshots['q']"
   ]
  },
  {
   "cell_type": "markdown",
   "metadata": {},
   "source": [
    "### Calculate advective velocity structure functions for all snapshots\n",
    "\n",
    "Here we use list comprehension to iterate through the snapshots in the dataset and generate structure functions for each snapshot. `[0]` ensures that we are selecting the top layer in this dataset since `u` and `v` have shape `[2, 128, 128]`."
   ]
  },
  {
   "cell_type": "code",
   "execution_count": null,
   "metadata": {},
   "outputs": [],
   "source": [
    "import fluidsf\n",
    "\n",
    "sfs_list = [\n",
    "    fluidsf.generate_structure_functions_2d(u[d][0], v[d][0], x, y) \n",
    "    for d in u.keys()]"
   ]
  },
  {
   "cell_type": "markdown",
   "metadata": {},
   "source": [
    "### Bootstrap to generate a mean structure function and confidence intervals\n",
    "\n",
    "We are using [scipy's bootstrapping method](https://docs.scipy.org/doc/scipy/reference/generated/scipy.stats.bootstrap.html) here, though other methods of estimating error and variability are possible. We will use a confidence level of 90%."
   ]
  },
  {
   "cell_type": "code",
   "execution_count": null,
   "metadata": {},
   "outputs": [],
   "source": [
    "import warnings\n",
    "\n",
    "import numpy as np\n",
    "from scipy.stats import bootstrap\n",
    "\n",
    "warnings.filterwarnings(\"ignore\") # Ignore warnings for the purpose of this tutorial\n",
    "\n",
    "# Reformat single sfs_list for ease of boostrapping\n",
    "sf_x = []\n",
    "sf_y = []\n",
    "\n",
    "for sf in sfs_list:\n",
    "    sf_x.append(sf[\"SF_advection_velocity_x\"])\n",
    "    sf_y.append(sf[\"SF_advection_velocity_y\"])\n",
    "\n",
    "# Bootstrap the zonal and meridional structure functions with 90% confidence levels\n",
    "boot_sf_vx = bootstrap((sf_x,), np.mean, confidence_level=0.9, axis=0)\n",
    "boot_sf_vy = bootstrap((sf_y,), np.mean, confidence_level=0.9, axis=0)\n",
    "\n",
    "# Generate the confidence intervals for both sets of structure functions, still at 90%\n",
    "boot_sf_vx_conf = boot_sf_vx.confidence_interval\n",
    "boot_sf_vy_conf = boot_sf_vy.confidence_interval\n",
    "\n",
    "# Compute the mean -- this can also be accomplished with a Python mean function \n",
    "# and will return the same result\n",
    "boot_sf_vx_mean = boot_sf_vx.bootstrap_distribution.mean(axis=1)\n",
    "boot_sf_vy_mean = boot_sf_vy.bootstrap_distribution.mean(axis=1)"
   ]
  },
  {
   "cell_type": "markdown",
   "metadata": {},
   "source": [
    "### Plot mean structure functions and confidence intervals"
   ]
  },
  {
   "cell_type": "code",
   "execution_count": null,
   "metadata": {},
   "outputs": [],
   "source": [
    "import matplotlib.pyplot as plt\n",
    "\n",
    "fig, (ax1) = plt.subplots()\n",
    "\n",
    "ax1.semilogx(sfs_list[0]['x-diffs'], boot_sf_vx_mean,label=r'x-dir',color='tab:blue')\n",
    "ax1.semilogx(sfs_list[0]['y-diffs'], boot_sf_vy_mean, label=r'y-dir', \n",
    "             color='tab:red', linestyle='dashed')\n",
    "\n",
    "# Shade in the confidence regions\n",
    "ax1.fill_between(sfs_list[0]['x-diffs'],boot_sf_vx_conf[0],\n",
    "                 boot_sf_vx_conf[1],color='tab:blue',alpha=0.3,edgecolor=None)\n",
    "ax1.fill_between(sfs_list[0]['y-diffs'],boot_sf_vy_conf[0],\n",
    "                 boot_sf_vy_conf[1],color='tab:red',alpha=0.3,edgecolor=None)\n",
    "\n",
    "ax1.set_ylabel(r\"Structure function\")\n",
    "ax1.set_xlabel(r\"Separation distance\")\n",
    "ax1.set_xlim(3e-2,3e0)\n",
    "ax1.legend()\n",
    "plt.hlines(0,3e-2,3e0,color='k',lw=1,zorder=0)\n",
    "plt.title('Advective velocity structure functions');"
   ]
  },
  {
   "cell_type": "markdown",
   "metadata": {},
   "source": [
    "This same process can be repeated for the other types of structure functions as described in the previous example."
   ]
  }
 ],
 "metadata": {
  "kernelspec": {
   "display_name": ".venv",
   "language": "python",
   "name": "python3"
  },
  "language_info": {
   "codemirror_mode": {
    "name": "ipython",
    "version": 3
   },
   "file_extension": ".py",
   "mimetype": "text/x-python",
   "name": "python",
   "nbconvert_exporter": "python",
   "pygments_lexer": "ipython3",
   "version": "3.11.6"
  }
 },
 "nbformat": 4,
 "nbformat_minor": 2
}
