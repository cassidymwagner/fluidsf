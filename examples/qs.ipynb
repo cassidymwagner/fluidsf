{
 "cells": [
  {
   "cell_type": "markdown",
   "metadata": {},
   "source": [
    "# Getting started\n",
    "Once FluidSF is installed, you can load the module into Python and run some basic calculations with random data."
   ]
  },
  {
   "cell_type": "code",
   "execution_count": null,
   "metadata": {},
   "outputs": [],
   "source": [
    "import warnings\n",
    "\n",
    "import matplotlib_inline.backend_inline\n",
    "import numpy as np\n",
    "import seaborn as sns\n",
    "\n",
    "warnings.filterwarnings(\"ignore\")  # Ignore warnings for the purpose of this tutorial\n",
    "\n",
    "sns.set_style(style=\"white\")\n",
    "sns.set_context(\"talk\")\n",
    "\n",
    "matplotlib_inline.backend_inline.set_matplotlib_formats(\"png\", dpi=200)"
   ]
  },
  {
   "cell_type": "markdown",
   "metadata": {},
   "source": [
    "### Create a 2D velocity field\n",
    "\n",
    "We will generate u and v velocity arrays that increase linearly in x. The v velocity will be half the magnitude of the u velocity."
   ]
  },
  {
   "cell_type": "code",
   "execution_count": null,
   "metadata": {},
   "outputs": [],
   "source": [
    "nx, ny = 100, 100\n",
    "x = np.linspace(0, 1, nx)\n",
    "y = np.linspace(0, 1, ny)\n",
    "X, Y = np.meshgrid(x, y)\n",
    "\n",
    "u = X\n",
    "v = 0.5 * X"
   ]
  },
  {
   "cell_type": "code",
   "execution_count": null,
   "metadata": {},
   "outputs": [],
   "source": [
    "import matplotlib.pyplot as plt\n",
    "\n",
    "fig, (ax1, ax2) = plt.subplots(1, 2, sharex=True, sharey=True, figsize=(12, 5))\n",
    "p1 = ax1.pcolormesh(x, y, u, cmap=\"RdBu\", vmin=-1, vmax=1)\n",
    "p2 = ax2.pcolormesh(x, y, v, cmap=\"RdBu\", vmin=-1, vmax=1)\n",
    "fig.colorbar(p1, label=\"u-velocity\")\n",
    "fig.colorbar(p2, label=\"v-velocity\")\n",
    "ax1.set_xlabel(\"x\")\n",
    "ax2.set_xlabel(\"x\")\n",
    "ax1.set_ylabel(\"y\")\n",
    "ax2.set_ylabel(\"y\")\n",
    "plt.tight_layout()"
   ]
  },
  {
   "cell_type": "markdown",
   "metadata": {},
   "source": [
    "### Generate the velocity structure function\n",
    "\n",
    "We can generate structure function using the function `generate_structure_functions_2d`. The function returns a dictionary with the all supported structure functions and separation distances in each direction. \n",
    "\n",
    "By default the advective velocity structure functions are calculated and the remaining structure functions are set to `None`. To calculate all velocity structure functions we set `sf_type=[\"ASF_V\", \"LLL\", \"LL\", \"LTT\"]`. \n",
    "\n",
    "We set the boundary condition to `None` because our random data is non-periodic. If we had periodic data we could set the boundary condition based on the direction of periodicity (i.e. `boundary=\"periodic-x\"` or `boundary=\"periodic-y\"` or `boundary=\"periodic-all\"` for 2D data). "
   ]
  },
  {
   "cell_type": "code",
   "execution_count": null,
   "metadata": {},
   "outputs": [],
   "source": [
    "import fluidsf\n",
    "\n",
    "sf = fluidsf.generate_structure_functions_2d(\n",
    "    u, v, x, y, sf_type=[\"ASF_V\", \"LLL\", \"LL\", \"LTT\"], boundary=None\n",
    ")"
   ]
  },
  {
   "cell_type": "markdown",
   "metadata": {},
   "source": [
    "The keys of the dictionary `sf` are \n",
    "\n",
    "- `SF_advection_velocity_dir`: Advective velocity structure function in the direction of the separation vector (`dir` = `x`, `y`, `z`).\n",
    "- `SF_advection_scalar_dir`: Advective scalar structure function in the direction of the separation vector (`dir` = `x`, `y`, `z`).\n",
    "- `SF_LL_dir`: Longitudinal second order velocity structure function in the direction of the separation vector (`dir` = `x`, `y`, `z`).\n",
    "- `SF_LLL_dir`: Longitudinal third order velocity structure function in the direction of the separation vector (`dir` = `x`, `y`, `z`).\n",
    "- `SF_LTT_dir`: Longitudinal-transverse-transverse third order velocity structure function in the direction of the separation vector (`dir` = `x`, `y`, `z`).\n",
    "- `SF_LSS_dir`: Longitudinal-scalar-scalar third order velocity structure function in the direction of the separation vector (`dir` = `x`, `y`, `z`).\n",
    "- `dir-diffs`: Separation distances in each direction (`dir` = `x`, `y`, `z`)."
   ]
  },
  {
   "cell_type": "markdown",
   "metadata": {},
   "source": [
    "### Plot the advective velocity structure functions in x and y"
   ]
  },
  {
   "cell_type": "code",
   "execution_count": null,
   "metadata": {},
   "outputs": [],
   "source": [
    "fig, ax = plt.subplots()\n",
    "ax.loglog(sf[\"x-diffs\"], sf[\"SF_advection_velocity_x\"], label=\"ASF_V(r)\", color=\"C0\")\n",
    "ax.loglog(sf[\"x-diffs\"], sf[\"SF_LL_x\"], label=\"LL(r)\", color=\"C1\")\n",
    "ax.loglog(sf[\"x-diffs\"], sf[\"SF_LLL_x\"], label=\"LLL(r)\", color=\"C2\")\n",
    "ax.loglog(sf[\"x-diffs\"], sf[\"SF_LTT_x\"], label=\"LTT(r)\", color=\"C3\")\n",
    "ax.loglog(\n",
    "    sf[\"x-diffs\"],\n",
    "    (5 / 4) * sf[\"x-diffs\"] ** 2,\n",
    "    color=\"k\",\n",
    "    linestyle=(0, (5, 10)),\n",
    ")\n",
    "ax.loglog(sf[\"x-diffs\"], sf[\"x-diffs\"] ** 2, color=\"k\", linestyle=(0, (5, 10)))\n",
    "ax.loglog(sf[\"x-diffs\"], sf[\"x-diffs\"] ** 3, color=\"k\", linestyle=(0, (5, 10)))\n",
    "ax.loglog(\n",
    "    sf[\"x-diffs\"],\n",
    "    0.25 * sf[\"x-diffs\"] ** 3,\n",
    "    color=\"k\",\n",
    "    linestyle=(0, (5, 10)),\n",
    ")\n",
    "\n",
    "ax.annotate(\n",
    "    r\"$\\frac{5}{4}r^{2}$\",\n",
    "    (0.2, 0.58),\n",
    "    textcoords=\"axes fraction\",\n",
    "    color=\"k\",\n",
    ")\n",
    "\n",
    "ax.annotate(\n",
    "    r\"$r^{2}$\",\n",
    "    (0.2, 0.44),\n",
    "    textcoords=\"axes fraction\",\n",
    "    color=\"k\",\n",
    ")\n",
    "\n",
    "ax.annotate(\n",
    "    r\"$r^{3}$\",\n",
    "    (0.2, 0.3),\n",
    "    textcoords=\"axes fraction\",\n",
    "    color=\"k\",\n",
    ")\n",
    "\n",
    "ax.annotate(\n",
    "    r\"$\\frac{1}{4}r^{3}$\",\n",
    "    (0.2, 0.1),\n",
    "    textcoords=\"axes fraction\",\n",
    "    color=\"k\",\n",
    ")\n",
    "\n",
    "plt.hlines(0, 0, 1, color=\"k\", lw=1, zorder=0)\n",
    "ax.set_xlabel(\"Separation distance (r)\")\n",
    "ax.set_ylabel(\"Structure function (SF(r))\")\n",
    "ax.legend(loc=\"lower right\")\n",
    "plt.show()"
   ]
  },
  {
   "cell_type": "markdown",
   "metadata": {},
   "source": [
    "### Scalar structure functions\n",
    "The scalar structure functions can be generated by including `\"ASF_S\"` and/or `\"LSS\"` in `sf_type`."
   ]
  },
  {
   "cell_type": "code",
   "execution_count": null,
   "metadata": {},
   "outputs": [],
   "source": [
    "S = X + Y\n",
    "\n",
    "sf = fluidsf.generate_structure_functions_2d(\n",
    "    u, v, x, y, sf_type=[\"ASF_S\", \"LSS\"], scalar=S, boundary=None\n",
    ")"
   ]
  },
  {
   "cell_type": "code",
   "execution_count": null,
   "metadata": {},
   "outputs": [],
   "source": [
    "import matplotlib.pyplot as plt\n",
    "\n",
    "fig, ax = plt.subplots()\n",
    "ax.loglog(\n",
    "    sf[\"x-diffs\"],\n",
    "    sf[\"SF_advection_scalar_x\"],\n",
    "    label=\"ASF_S(r)\",\n",
    "    color=\"tab:blue\",\n",
    ")\n",
    "\n",
    "ax.loglog(\n",
    "    sf[\"x-diffs\"],\n",
    "    sf[\"SF_LSS_x\"],\n",
    "    label=\"LSS(r)\",\n",
    "    color=\"tab:blue\",\n",
    "    linestyle=\"dotted\",\n",
    ")\n",
    "\n",
    "ax.loglog(\n",
    "    sf[\"x-diffs\"], (3 / 2) * sf[\"x-diffs\"] ** 2, color=\"k\", linestyle=(0, (5, 10))\n",
    ")\n",
    "ax.loglog(sf[\"x-diffs\"], sf[\"x-diffs\"] ** 3, color=\"k\", linestyle=(0, (5, 10)))\n",
    "\n",
    "ax.annotate(\n",
    "    r\"$\\frac{3}{2}r^{2}$\",\n",
    "    (0.2, 0.52),\n",
    "    textcoords=\"axes fraction\",\n",
    "    color=\"k\",\n",
    ")\n",
    "\n",
    "ax.annotate(\n",
    "    r\"$r^{3}$\",\n",
    "    (0.2, 0.14),\n",
    "    textcoords=\"axes fraction\",\n",
    "    color=\"k\",\n",
    ")\n",
    "\n",
    "plt.hlines(0, 0, 1, color=\"k\", lw=1, zorder=0)\n",
    "ax.set_xlabel(\"Separation distance (r)\")\n",
    "ax.set_ylabel(\"Structure function (SF(r))\")\n",
    "ax.legend(loc=\"lower right\")\n",
    "plt.show()"
   ]
  }
 ],
 "metadata": {
  "kernelspec": {
   "display_name": "py311",
   "language": "python",
   "name": "python3"
  },
  "language_info": {
   "codemirror_mode": {
    "name": "ipython",
    "version": 3
   },
   "file_extension": ".py",
   "mimetype": "text/x-python",
   "name": "python",
   "nbconvert_exporter": "python",
   "pygments_lexer": "ipython3",
   "version": "3.11.6"
  }
 },
 "nbformat": 4,
 "nbformat_minor": 2
}
