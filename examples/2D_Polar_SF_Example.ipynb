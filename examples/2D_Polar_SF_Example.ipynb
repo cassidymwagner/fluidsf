{
 "cells": [
  {
   "cell_type": "code",
   "execution_count": null,
   "id": "d7134b91",
   "metadata": {},
   "outputs": [],
   "source": [
    "import matplotlib_inline.backend_inline\n",
    "import seaborn as sns\n",
    "\n",
    "sns.set_style(style=\"white\")\n",
    "sns.set_context(\"talk\")\n",
    "\n",
    "matplotlib_inline.backend_inline.set_matplotlib_formats(\"retina\")\n"
   ]
  },
  {
   "cell_type": "code",
   "execution_count": null,
   "id": "09441cf6",
   "metadata": {},
   "outputs": [],
   "source": [
    "import h5py\n",
    "import numpy as np\n",
    "\n",
    "f = h5py.File('./2D_TwoLayer_Data.jld2', 'r')\n",
    "grid = f['grid']\n",
    "snapshots = f['snapshots']\n",
    "\n",
    "# Initialize the grid of x and y coordinates\n",
    "x = grid['x'][()]\n",
    "y = grid['y'][()]\n",
    "\n",
    "# Grab u, v, and q for all snapshots and layers (we will just use the top layer)\n",
    "u = snapshots['u']\n",
    "v = snapshots['v']\n",
    "q = snapshots['q']"
   ]
  },
  {
   "cell_type": "code",
   "execution_count": null,
   "id": "21b92c5f",
   "metadata": {},
   "outputs": [],
   "source": [
    "#!pip install ../../fluidsf\n",
    "import fluidsf\n",
    "\n",
    "# The '9950' index pulls the final snapshot of the simulated data, once the turbulence and energetics are spun-up\n",
    "sfs_2D_maps = fluidsf.generate_2D_SF_maps(u['9950'][0], v['9950'][0], x, y)\n",
    "\n",
    "sfs_list = fluidsf.generate_structure_functions(u['9950'][0], v['9950'][0], x, y)\n",
    "\n",
    "# The following lines could be used to diagnose structure functions for all snapshots \n",
    "# of data, but this is too slow for an example\n",
    "\n",
    "#sfs_2D_maps = [\n",
    "#    fluidsf.generate_2D_SF_maps(u[d][0], v[d][0], x, y)\n",
    "#    for d in u.keys()]\n",
    "\n",
    "#sfs_list = [\n",
    "#    fluidsf.generate_structure_functions(u[d][0], v[d][0], x, y)\n",
    "#    for d in u.keys()]"
   ]
  },
  {
   "cell_type": "code",
   "execution_count": null,
   "id": "e1d77064",
   "metadata": {},
   "outputs": [],
   "source": [
    "# First, let us check that the polar code calculates the same \n",
    "# zonal (purely x-separated) and meridional (purely y-separated)\n",
    "# structure functions as the core 1D calculation modules\n",
    "\n",
    "import matplotlib.pyplot as plt\n",
    "\n",
    "fig, (ax1) = plt.subplots()\n",
    "\n",
    "ax1.semilogx(sfs_list['x-diffs'], sfs_list['SF_advection_velocity_x'],label=r'Zonal (direct calc.)',color='k')\n",
    "ax1.semilogx(sfs_list['y-diffs'], sfs_list['SF_advection_velocity_y'], label=r'Meridional (direct calc.)',\n",
    "             color='tab:blue', linestyle='dotted')\n",
    "ax1.semilogx(sfs_list['y-diffs'], sfs_2D_maps['SF_velocity_advection_xy'][:,64], label=r'Zonal from polar',\n",
    "             color='tab:red', linestyle='dashed')\n",
    "ax1.semilogx(sfs_list['y-diffs'], sfs_2D_maps['SF_velocity_advection_xy'][0,64:], label=r'Meridional from polar',\n",
    "             color='tab:green', linestyle='dashed')\n",
    "\n",
    "ax1.set_ylabel(r\"Advective SF [m$^2$ s$^{-3}$]\")\n",
    "ax1.set_xlabel(r\"Separation distance [m]\")\n",
    "ax1.set_xlim(3e-2,3e0)\n",
    "ax1.legend()\n",
    "plt.hlines(0,3e-2,3e0,color='k',linestyle='dashed',alpha=0.3)\n",
    "plt.title('Advective velocity structure functions');"
   ]
  },
  {
   "cell_type": "code",
   "execution_count": null,
   "id": "62a1d136",
   "metadata": {},
   "outputs": [],
   "source": [
    "# Now we construct a 2D map of the advective structure function \n",
    "# To do this, note that a separation vector with a positive x and y component \n",
    "# is equivalent to a separation vector with negative x and y component, \n",
    "# similarly the negative-y positive-x quadrant maps to positive-y negative-x\n",
    "\n",
    "# First we construct these polar map arrays by appending these quadrants to the two already calculated\n",
    "\n",
    "TwoD_map_x_separations = np.append(-np.flip(sfs_2D_maps['x_separations']), sfs_2D_maps['x_separations'], axis=0)\n",
    "TwoD_map_y_separations = np.append(-np.flip(sfs_2D_maps['y_separations']), sfs_2D_maps['y_separations'], axis=0)\n",
    "TwoD_map_advective_SF = np.append(np.flip(sfs_2D_maps['SF_velocity_advection_xy']), \n",
    "                                   sfs_2D_maps['SF_velocity_advection_xy'], axis=0)\n"
   ]
  },
  {
   "cell_type": "code",
   "execution_count": null,
   "id": "047cce0f",
   "metadata": {},
   "outputs": [],
   "source": [
    "fig1, ax2 = plt.subplots(layout='constrained')\n",
    "\n",
    "levels = np.linspace(-0.07, 0.07, 1001)\n",
    "\n",
    "CS = ax2.contourf(TwoD_map_x_separations,\n",
    "            TwoD_map_y_separations,\n",
    "            TwoD_map_advective_SF, \n",
    "            levels=levels, cmap=plt.cm.seismic)\n",
    "\n",
    "ax2.set_xlabel('x separation [m]')\n",
    "ax2.set_ylabel('y separation [m]')\n",
    "\n",
    "# Make a colorbar for the ContourSet returned by the contourf call.\n",
    "cbar = fig1.colorbar(CS)\n",
    "cbar.ax.set_ylabel('Advective SF [m$^2$ s$^{-3}$]')\n",
    "\n",
    "ax2.axhline(0, color='black', linestyle='--')\n",
    "ax2.axvline(0, color='black', linestyle='--')\n"
   ]
  },
  {
   "cell_type": "code",
   "execution_count": null,
   "id": "1b37554c",
   "metadata": {},
   "outputs": [],
   "source": [
    "# The 2D map modules also output separation distance and angle\n",
    "# These could be useful for users, for example when binning or performing analyses\n",
    "# Although these properties are not used in this example, we visualize them below\n",
    "# to demonstrate how to access and use these arrays\n",
    "\n",
    "fig, axs = plt.subplots(1,2, figsize=(9,5), layout='constrained')\n",
    "                        \n",
    "distances = axs[0].contourf(sfs_2D_maps['x_separations'],\n",
    "            sfs_2D_maps['y_separations'],\n",
    "            sfs_2D_maps['separation_distances'], \n",
    "            1000, cmap=plt.cm.gist_stern)\n",
    "\n",
    "axs[0].set_title('Separation Distance [m]')\n",
    "axs[0].set_xlabel('x separation')\n",
    "axs[0].set_ylabel('y separation')\n",
    "\n",
    "# Make a colorbar for the ContourSet returned by the contourf call.\n",
    "cbar = fig.colorbar(distances)\n",
    "\n",
    "angles = axs[1].contourf(sfs_2D_maps['x_separations'],\n",
    "            sfs_2D_maps['y_separations'],\n",
    "            sfs_2D_maps['separation_angles'], \n",
    "            1000, cmap=plt.cm.seismic)\n",
    "\n",
    "axs[1].set_title('Angle [radians]')\n",
    "axs[1].set_xlabel('x separation')\n",
    "\n",
    "# Make a colorbar for the ContourSet returned by the contourf call.\n",
    "cbar = fig.colorbar(angles)"
   ]
  },
  {
   "cell_type": "code",
   "execution_count": null,
   "id": "6c548814",
   "metadata": {},
   "outputs": [],
   "source": []
  }
 ],
 "metadata": {
  "kernelspec": {
   "display_name": "Python 3",
   "language": "python",
   "name": "python3"
  },
  "language_info": {
   "codemirror_mode": {
    "name": "ipython",
    "version": 3
   },
   "file_extension": ".py",
   "mimetype": "text/x-python",
   "name": "python",
   "nbconvert_exporter": "python",
   "pygments_lexer": "ipython3",
   "version": "3.8.5"
  }
 },
 "nbformat": 4,
 "nbformat_minor": 5
}
