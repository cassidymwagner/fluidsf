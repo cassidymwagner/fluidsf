{
 "cells": [
  {
   "cell_type": "markdown",
   "metadata": {},
   "source": [
    "# Structure functions with 2D data"
   ]
  },
  {
   "cell_type": "markdown",
   "metadata": {},
   "source": [
    "This example will guide you through each step necessary to compute velocity- and vorticity-based structure functions from a 2D simulation of surface ocean velocity. \n",
    "\n",
    "**General procedure:**\n",
    "\n",
    "1. Load a dataset generated with GeophysicalFlows.jl\n",
    "2. Format the dataset\n",
    "3. Calculate velocity-based and scalar-based structure functions for the zonal and meridional directions as a function of separation distance\n",
    "4. Plot the structure functions as a function of separation distance"
   ]
  },
  {
   "cell_type": "code",
   "execution_count": null,
   "metadata": {
    "tags": []
   },
   "outputs": [],
   "source": [
    "import matplotlib_inline.backend_inline\n",
    "import seaborn as sns\n",
    "\n",
    "sns.set_style(style=\"white\")\n",
    "sns.set_context(\"talk\")\n",
    "\n",
    "matplotlib_inline.backend_inline.set_matplotlib_formats(\"png\", dpi=200)"
   ]
  },
  {
   "cell_type": "markdown",
   "metadata": {},
   "source": [
    "## Load the dataset generated with GeophysicalFlows.jl\n",
    "We will use `h5py` to load a `.jld2` file, the output from [GeophysicalFlows.jl](https://fourierflows.github.io/GeophysicalFlowsDocumentation/stable/), a numerical ocean simulator written in Julia."
   ]
  },
  {
   "cell_type": "code",
   "execution_count": null,
   "metadata": {},
   "outputs": [],
   "source": [
    "import h5py\n",
    "   \n",
    "f = h5py.File('example_data/2layer_128.jld2', 'r')\n",
    "grid = f['grid']\n",
    "snapshots = f['snapshots']\n",
    "\n",
    "# Initialize the grid of x and y coordinates\n",
    "x = grid['x'][()]\n",
    "y = grid['y'][()]\n",
    "\n",
    "# Grab the top layer and final snapshot of the simulation for u, v, and q\n",
    "u = snapshots['u']['20050'][0]\n",
    "v = snapshots['v']['20050'][0]\n",
    "q = snapshots['q']['20050'][0]"
   ]
  },
  {
   "cell_type": "markdown",
   "metadata": {},
   "source": [
    "Make a couple of quick plots to see the velocity fields."
   ]
  },
  {
   "cell_type": "code",
   "execution_count": null,
   "metadata": {},
   "outputs": [],
   "source": [
    "import matplotlib.pyplot as plt\n",
    "\n",
    "fig, (ax1, ax2) = plt.subplots(1,2, sharex=True, sharey=True, figsize=(12,5))\n",
    "p1 = ax1.pcolormesh(x,y,u, cmap='RdBu',vmin=-5,vmax=5)\n",
    "p2 = ax2.pcolormesh(x,y,v, cmap='RdBu',vmin=-5,vmax=5)\n",
    "fig.colorbar(p1,label='u-velocity')\n",
    "fig.colorbar(p2, label='v-velocity')\n",
    "ax1.set_xlabel('x')\n",
    "ax2.set_xlabel('x')\n",
    "ax1.set_ylabel('y')\n",
    "ax2.set_ylabel('y')\n",
    "plt.tight_layout()"
   ]
  },
  {
   "cell_type": "markdown",
   "metadata": {},
   "source": [
    "## Calculate advective velocity structure functions\n",
    "By default `fluidsf.generate_structure_functions_2d` will generate the advective velocity-based structure function. "
   ]
  },
  {
   "cell_type": "code",
   "execution_count": null,
   "metadata": {},
   "outputs": [],
   "source": [
    "import fluidsf\n",
    "\n",
    "sf = fluidsf.generate_structure_functions_2d(u, v, x, y)"
   ]
  },
  {
   "cell_type": "code",
   "execution_count": null,
   "metadata": {},
   "outputs": [],
   "source": [
    "fig, (ax1) = plt.subplots()\n",
    "\n",
    "\n",
    "ax1.semilogx(sf['x-diffs'], sf['SF_advection_velocity_x'],\n",
    "             label=r'ASF$_V$ x-dir',color='tab:blue')\n",
    "ax1.semilogx(sf['y-diffs'], sf['SF_advection_velocity_y'], \n",
    "             label=r'ASF$_V$ y-dir',\n",
    "             color='tab:red',linestyle='dashed')\n",
    "\n",
    "ax1.set_ylabel(r\"Structure function\")\n",
    "ax1.set_xlabel(r\"Separation distance\")\n",
    "ax1.set_xlim(3e-2,3e0)\n",
    "ax1.legend()\n",
    "plt.hlines(0,3e-2,3e0,color='k',lw=1,zorder=0)"
   ]
  },
  {
   "cell_type": "markdown",
   "metadata": {},
   "source": [
    "## Calculating scalar-based structure functions and traditional structure functions\n",
    "We can repeat the above steps with additional inputs to calculate advective structure functions from scalar fields as well as traditional structure functions. \n",
    "\n",
    "**Note:** we now add `\"ASF_V\"` to the list given to `sf_type` because otherwise the advective velocity structure function will be skipped."
   ]
  },
  {
   "cell_type": "code",
   "execution_count": null,
   "metadata": {},
   "outputs": [],
   "source": [
    "sf_all = fluidsf.generate_structure_functions_2d(\n",
    "    u,\n",
    "    v,\n",
    "    x,\n",
    "    y,\n",
    "    sf_type=[\"ASF_V\", \"ASF_S\", \"LLL\", \"LL\", \"LTT\", \"LSS\"],\n",
    "    scalar=q,\n",
    ")"
   ]
  },
  {
   "cell_type": "code",
   "execution_count": null,
   "metadata": {},
   "outputs": [],
   "source": [
    "fig, (ax1) = plt.subplots()\n",
    "\n",
    "\n",
    "ax1.semilogx(sf_all['x-diffs'], sf_all['SF_advection_scalar_x'],\n",
    "             label=r'ASF$_{\\omega}$ x-dir',\n",
    "             color='tab:blue')\n",
    "ax1.semilogx(sf_all['y-diffs'], sf_all['SF_advection_scalar_y'], \n",
    "             label=r'ASF$_{\\omega}$ y-dir',\n",
    "             color='tab:red', linestyle='dashed')\n",
    "\n",
    "ax1.set_ylabel(r\"Structure function\")\n",
    "ax1.set_xlabel(r\"Separation distance\")\n",
    "ax1.set_xlim(3e-2,3e0)\n",
    "ax1.legend()\n",
    "plt.hlines(0,3e-2,3e0,color='k',lw=1,zorder=0)\n",
    "ax1.tick_params(direction=\"in\", which=\"both\")\n",
    "ax1.xaxis.get_ticklocs(minor=True)\n",
    "ax1.minorticks_on()"
   ]
  },
  {
   "cell_type": "code",
   "execution_count": null,
   "metadata": {},
   "outputs": [],
   "source": [
    "fig, (ax1) = plt.subplots()\n",
    "\n",
    "\n",
    "ax1.semilogx(sf_all['x-diffs'], sf_all['SF_LLL_x'],\n",
    "             label=r'LLL x-dir',\n",
    "             color='tab:blue')\n",
    "ax1.semilogx(sf_all['y-diffs'], sf_all['SF_LLL_y'], \n",
    "             label=r'LLL y-dir',\n",
    "             color='tab:red',linestyle='dashed')\n",
    "\n",
    "ax1.set_ylabel(r\"Structure function\")\n",
    "ax1.set_xlabel(r\"Separation distance\")\n",
    "ax1.set_xlim(3e-2,3e0)\n",
    "ax1.legend()\n",
    "plt.hlines(0,3e-2,3e0,color='k',lw=1,zorder=0)\n",
    "ax1.tick_params(direction=\"in\", which=\"both\")\n",
    "ax1.xaxis.get_ticklocs(minor=True)\n",
    "ax1.minorticks_on()"
   ]
  },
  {
   "cell_type": "code",
   "execution_count": null,
   "metadata": {},
   "outputs": [],
   "source": [
    "fig, (ax1) = plt.subplots()\n",
    "\n",
    "\n",
    "ax1.loglog(sf_all['x-diffs'], sf_all['SF_LL_x'],\n",
    "             label=r'LL x-dir',\n",
    "             color='tab:blue')\n",
    "ax1.loglog(sf_all['y-diffs'], sf_all['SF_LL_y'], \n",
    "             label=r'LL y-dir',\n",
    "             color='tab:red',linestyle='dashed')\n",
    "\n",
    "ax1.set_ylabel(r\"Structure function\")\n",
    "ax1.set_xlabel(r\"Separation distance\")\n",
    "ax1.set_xlim(3e-2,3e0)\n",
    "ax1.legend()\n",
    "plt.hlines(0,3e-2,3e0,color='k',lw=1,zorder=0)\n",
    "ax1.tick_params(direction=\"in\", which=\"both\")\n",
    "ax1.xaxis.get_ticklocs(minor=True)\n",
    "ax1.minorticks_on()"
   ]
  },
  {
   "cell_type": "code",
   "execution_count": null,
   "metadata": {},
   "outputs": [],
   "source": [
    "fig, (ax1) = plt.subplots()\n",
    "\n",
    "\n",
    "ax1.semilogx(sf_all['x-diffs'], sf_all['SF_LTT_x'],\n",
    "             label=r'LTT x-dir',\n",
    "             color='tab:blue')\n",
    "ax1.semilogx(sf_all['y-diffs'], sf_all['SF_LTT_y'], \n",
    "             label=r'LTT y-dir',\n",
    "             color='tab:red',linestyle='dashed')\n",
    "\n",
    "ax1.set_ylabel(r\"Structure function\")\n",
    "ax1.set_xlabel(r\"Separation distance\")\n",
    "ax1.set_xlim(3e-2,3e0)\n",
    "ax1.legend()\n",
    "plt.hlines(0,3e-2,3e0,color='k',lw=1,zorder=0)\n",
    "ax1.tick_params(direction=\"in\", which=\"both\")\n",
    "ax1.xaxis.get_ticklocs(minor=True)\n",
    "ax1.minorticks_on()"
   ]
  },
  {
   "cell_type": "code",
   "execution_count": null,
   "metadata": {},
   "outputs": [],
   "source": [
    "fig, (ax1) = plt.subplots()\n",
    "\n",
    "\n",
    "ax1.semilogx(sf_all['x-diffs'], sf_all['SF_LSS_x'],\n",
    "             label=r'L$\\omega\\omega$ x-dir',\n",
    "             color='tab:blue')\n",
    "ax1.semilogx(sf_all['y-diffs'], sf_all['SF_LSS_y'], \n",
    "             label=r'L$\\omega\\omega$ y-dir',\n",
    "             color='tab:red', linestyle='dashed')\n",
    "\n",
    "ax1.set_ylabel(r\"Structure function\")\n",
    "ax1.set_xlabel(r\"Separation distance\")\n",
    "ax1.set_xlim(3e-2,3e0)\n",
    "ax1.legend()\n",
    "plt.hlines(0,3e-2,3e0,color='k',lw=1,zorder=0)\n",
    "ax1.tick_params(direction=\"in\", which=\"both\")\n",
    "ax1.xaxis.get_ticklocs(minor=True)\n",
    "ax1.minorticks_on()"
   ]
  }
 ],
 "metadata": {
  "kernelspec": {
   "display_name": ".venv",
   "language": "python",
   "name": "python3"
  },
  "language_info": {
   "codemirror_mode": {
    "name": "ipython",
    "version": 3
   },
   "file_extension": ".py",
   "mimetype": "text/x-python",
   "name": "python",
   "nbconvert_exporter": "python",
   "pygments_lexer": "ipython3",
   "version": "3.11.6"
  }
 },
 "nbformat": 4,
 "nbformat_minor": 2
}
