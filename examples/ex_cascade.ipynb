{
 "cells": [
  {
   "cell_type": "markdown",
   "metadata": {},
   "source": [
    "# Estimate cascade rates from structure functions\n",
    "\n",
    "This example will demonstrate how to estimate cascade rates from two different velocity-based structure functions. Cascade rate estimations depend on the physical constraints of the turbulent system and this example specifically applies to 2D quasi-geostrophic fluid dynamics. \n",
    "\n",
    "**General procedure:**\n",
    "\n",
    "1. Set up plot environment & load/format the data\n",
    "2. Calculate structure functions for all snapshots of the simulation\n",
    "3. Bootstrap to generate a mean\n",
    "4. Estimate cascade rates\n",
    "5. Plot cascade rates as a function of length scale"
   ]
  },
  {
   "cell_type": "code",
   "execution_count": null,
   "metadata": {},
   "outputs": [],
   "source": [
    "import warnings\n",
    "\n",
    "import h5py\n",
    "import matplotlib_inline.backend_inline\n",
    "import seaborn as sns\n",
    "\n",
    "warnings.filterwarnings(\"ignore\")  # Ignore warnings for the purpose of this tutorial\n",
    "\n",
    "sns.set_style(style=\"white\")\n",
    "sns.set_context(\"talk\")\n",
    "matplotlib_inline.backend_inline.set_matplotlib_formats(\"png\", dpi=200)"
   ]
  },
  {
   "cell_type": "markdown",
   "metadata": {},
   "source": [
    "## Initialize the data\n",
    "We will use `h5py` to load a `.jld2` file, the output from [GeophysicalFlows.jl](https://fourierflows.github.io/GeophysicalFlowsDocumentation/stable/), a numerical ocean simulator written in Julia. The data consists of 2D (horizontal) fields simulated over a periodic domain. There are multiple snapshots of this data, corresponding to different times. We will select the last snapshot to analyze."
   ]
  },
  {
   "cell_type": "code",
   "execution_count": null,
   "metadata": {},
   "outputs": [],
   "source": [
    "f = h5py.File(\"example_data/2layer_128.jld2\", \"r\")\n",
    "grid = f[\"grid\"]\n",
    "snapshots = f[\"snapshots\"]\n",
    "\n",
    "# Initialize the grid of x and y coordinates\n",
    "x = grid[\"x\"][()]\n",
    "y = grid[\"y\"][()]\n",
    "\n",
    "# Grab u and v for all snapshots and layers (we will just use the top layer)\n",
    "u = snapshots['u']\n",
    "v = snapshots['v']"
   ]
  },
  {
   "cell_type": "markdown",
   "metadata": {},
   "source": [
    "Make a couple of quick plots of the top layer at the last timestep to see the velocity fields."
   ]
  },
  {
   "cell_type": "code",
   "execution_count": null,
   "metadata": {},
   "outputs": [],
   "source": [
    "import matplotlib.pyplot as plt\n",
    "\n",
    "fig, (ax1, ax2) = plt.subplots(1,2, sharex=True, sharey=True, figsize=(12,5))\n",
    "p1 = ax1.pcolormesh(x,y,u['20050'][0], cmap='RdBu',vmin=-5,vmax=5)\n",
    "p2 = ax2.pcolormesh(x,y,v['20050'][0], cmap='RdBu',vmin=-5,vmax=5)\n",
    "fig.colorbar(p1,label='u-velocity')\n",
    "fig.colorbar(p2, label='v-velocity')\n",
    "ax1.set_xlabel('x')\n",
    "ax2.set_xlabel('x')\n",
    "ax1.set_ylabel('y')\n",
    "ax2.set_ylabel('y')\n",
    "plt.tight_layout()"
   ]
  },
  {
   "cell_type": "markdown",
   "metadata": {},
   "source": [
    "## Calculate structure functions for all snapshots\n",
    "\n",
    "Here we will calculate the advective velocity structure function and the third order longitudinal velocity structure function. We will calculate each structure function in the x-direction and the y-direction for a total of four unique structure functions."
   ]
  },
  {
   "cell_type": "code",
   "execution_count": null,
   "metadata": {},
   "outputs": [],
   "source": [
    "import fluidsf\n",
    "\n",
    "sfs_list = [\n",
    "    fluidsf.generate_structure_functions_2d(\n",
    "        u[d][0],\n",
    "        v[d][0],\n",
    "        x,\n",
    "        y,\n",
    "        sf_type=[\"ASF_V\", \"LLL\"],\n",
    "        boundary=\"periodic-all\",\n",
    "    )\n",
    "    for d in u.keys()\n",
    "]"
   ]
  },
  {
   "cell_type": "markdown",
   "metadata": {},
   "source": [
    "## Bootstrap structure functions\n",
    "\n",
    "We are using [scipy's bootstrapping method](https://docs.scipy.org/doc/scipy/reference/generated/scipy.stats.bootstrap.html) here, though other methods of estimating error and variability are possible. We will use a confidence level of 90%. "
   ]
  },
  {
   "cell_type": "code",
   "execution_count": null,
   "metadata": {},
   "outputs": [],
   "source": [
    "import numpy as np\n",
    "from scipy.stats import bootstrap\n",
    "\n",
    "# Reformat single sfs_list for ease of boostrapping\n",
    "sf_ASF_x = []\n",
    "sf_ASF_y = []\n",
    "sf_LLL_x = []\n",
    "sf_LLL_y = []\n",
    "\n",
    "for sf in sfs_list:\n",
    "    sf_ASF_x.append(sf[\"SF_advection_velocity_x\"])\n",
    "    sf_ASF_y.append(sf[\"SF_advection_velocity_y\"])\n",
    "    sf_LLL_x.append(sf[\"SF_LLL_x\"])\n",
    "    sf_LLL_y.append(sf[\"SF_LLL_y\"])\n",
    "\n",
    "# Bootstrap the structure functions with 90% confidence levels\n",
    "boot_ASF_x = bootstrap((sf_ASF_x,), np.mean, confidence_level=0.5, axis=0)\n",
    "boot_ASF_y = bootstrap((sf_ASF_y,), np.mean, confidence_level=0.5, axis=0)\n",
    "boot_LLL_x = bootstrap((sf_LLL_x,), np.mean, confidence_level=0.5, axis=0)\n",
    "boot_LLL_y = bootstrap((sf_LLL_y,), np.mean, confidence_level=0.5, axis=0)\n",
    "\n",
    "# Generate the confidence intervals for structure functions, still at 90%\n",
    "boot_ASF_x_conf = boot_ASF_x.confidence_interval\n",
    "boot_ASF_y_conf = boot_ASF_y.confidence_interval\n",
    "boot_LLL_x_conf = boot_LLL_x.confidence_interval\n",
    "boot_LLL_y_conf = boot_LLL_y.confidence_interval\n",
    "\n",
    "# Compute the mean -- this can also be accomplished with a Python mean function \n",
    "# and will return the same result\n",
    "boot_ASF_x_mean = boot_ASF_x.bootstrap_distribution.mean(axis=1)\n",
    "boot_ASF_y_mean = boot_ASF_y.bootstrap_distribution.mean(axis=1)\n",
    "boot_LLL_x_mean = boot_LLL_x.bootstrap_distribution.mean(axis=1)\n",
    "boot_LLL_y_mean = boot_LLL_y.bootstrap_distribution.mean(axis=1)"
   ]
  },
  {
   "cell_type": "markdown",
   "metadata": {},
   "source": [
    "## Estimate cascade rates\n",
    "\n",
    "Different types of structure functions have different relationships to properties of turbulent flow, including cascade rates (inter-scale fluxes). Both velocity structure functions we have calculated can be related to the inverse energy cascade present in 2D turbulent systems. For more details about structure functions and their relevance to fluid properties, see the section [What are structure functions?](https://cassidymwagner.github.io/fluidsf/sfs.html)\n",
    "\n",
    "The advective velocity structure function (`SF_advection_velocity` or $ASF_v$) and the third order longitudinal velocity structure function (`SF_LLL` or $SF_v^3$) have the following relationships with the inverse energy cascade rate in a 2D quasi-geostrophic system:\n",
    "\n",
    "$\\epsilon = -2 SF^3_v /3\\mathbf{r}$\n",
    "\n",
    "$\\epsilon = - ASF_v /2$\n",
    "\n",
    "where $\\mathbf{r}$ is an array of separation differences (`x-diffs` or `y-diffs` in this case).\n",
    "\n",
    "Now we can estimate the cascade rates using both structure functions."
   ]
  },
  {
   "cell_type": "code",
   "execution_count": null,
   "metadata": {},
   "outputs": [],
   "source": [
    "epsilon_LLL_x_mean = - 2 * boot_LLL_x_mean / (3 * sfs_list[0]['x-diffs'])\n",
    "epsilon_LLL_y_mean = - 2 * boot_LLL_y_mean / (3 * sfs_list[0]['y-diffs'])\n",
    "epsilon_ASF_x_mean = - boot_ASF_x_mean / 2\n",
    "epsilon_ASF_y_mean = - boot_ASF_y_mean / 2"
   ]
  },
  {
   "cell_type": "markdown",
   "metadata": {},
   "source": [
    "## Plot cascade rates and compare\n"
   ]
  },
  {
   "cell_type": "code",
   "execution_count": null,
   "metadata": {},
   "outputs": [],
   "source": [
    "fig, (ax1,ax2) = plt.subplots(1,2, figsize=(10,5), sharey=True)\n",
    "\n",
    "ax2.semilogx(\n",
    "    sfs_list[0][\"x-diffs\"], epsilon_LLL_x_mean, label=r\"LLL$_x$\", color=\"tab:blue\"\n",
    ")\n",
    "ax2.semilogx(\n",
    "    sfs_list[0][\"y-diffs\"],\n",
    "    epsilon_LLL_y_mean,\n",
    "    label=r\"LLL$_y$\",\n",
    "    color=\"tab:red\",\n",
    "    linestyle=\"dashed\",\n",
    ")\n",
    "ax1.semilogx(\n",
    "    sfs_list[0][\"x-diffs\"], epsilon_ASF_x_mean, label=r\"x-dir\", color=\"tab:blue\"\n",
    ")\n",
    "ax1.semilogx(\n",
    "    sfs_list[0][\"y-diffs\"],\n",
    "    epsilon_ASF_y_mean,\n",
    "    label=r\"y-dir\",\n",
    "    color=\"tab:red\",\n",
    "    linestyle=\"dashed\",\n",
    ")\n",
    "\n",
    "# Shade in the confidence regions\n",
    "ax1.fill_between(\n",
    "    sfs_list[0][\"x-diffs\"],\n",
    "    -boot_ASF_x_conf[0] / 2,\n",
    "    -boot_ASF_x_conf[1] / 2,\n",
    "    color=\"tab:blue\",\n",
    "    alpha=0.3,\n",
    "    edgecolor=None,\n",
    ")\n",
    "ax1.fill_between(\n",
    "    sfs_list[0][\"y-diffs\"],\n",
    "    -boot_ASF_y_conf[0] / 2,\n",
    "    -boot_ASF_x_conf[1] / 2,\n",
    "    color=\"tab:red\",\n",
    "    alpha=0.3,\n",
    "    edgecolor=None,\n",
    ")\n",
    "ax2.fill_between(\n",
    "    sfs_list[0][\"x-diffs\"],\n",
    "    -2 * boot_LLL_x_conf[0] / (3 * sfs_list[0][\"x-diffs\"]),\n",
    "    -2 * boot_LLL_x_conf[1] / (3 * sfs_list[0][\"x-diffs\"]),\n",
    "    color=\"tab:blue\",\n",
    "    alpha=0.3,\n",
    "    edgecolor=None,\n",
    ")\n",
    "ax2.fill_between(\n",
    "    sfs_list[0][\"y-diffs\"],\n",
    "    -2 * boot_LLL_y_conf[0] / (3 * sfs_list[0][\"y-diffs\"]),\n",
    "    -2 * boot_LLL_y_conf[1] / (3 * sfs_list[0][\"y-diffs\"]),\n",
    "    color=\"tab:red\",\n",
    "    alpha=0.3,\n",
    "    edgecolor=None,\n",
    ")\n",
    "\n",
    "ax1.set_ylabel(r\"Inverse energy cascade rate $\\epsilon$\")\n",
    "ax1.set_xlabel(r\"Separation distance\")\n",
    "ax2.set_xlabel(r\"Separation distance\")\n",
    "ax1.set_xlim(3e-2, 3e0)\n",
    "ax2.set_xlim(3e-2, 3e0)\n",
    "ax1.legend()\n",
    "ax1.hlines(0, 3e-2, 3e0, color=\"k\", lw=1, zorder=0)\n",
    "ax2.hlines(0, 3e-2, 3e0, color=\"k\", lw=1, zorder=0);"
   ]
  }
 ],
 "metadata": {
  "kernelspec": {
   "display_name": "py311",
   "language": "python",
   "name": "python3"
  },
  "language_info": {
   "codemirror_mode": {
    "name": "ipython",
    "version": 3
   },
   "file_extension": ".py",
   "mimetype": "text/x-python",
   "name": "python",
   "nbconvert_exporter": "python",
   "pygments_lexer": "ipython3",
   "version": "3.11.6"
  }
 },
 "nbformat": 4,
 "nbformat_minor": 2
}
