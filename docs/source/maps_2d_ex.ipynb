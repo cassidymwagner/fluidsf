{
 "cells": [
  {
   "cell_type": "markdown",
   "metadata": {},
   "source": [
    "# Create 2D Maps of Various Structure Functions"
   ]
  },
  {
   "cell_type": "markdown",
   "metadata": {},
   "source": [
    "This example will demonstrate how to create maps of various structure functions from a 2D velocity field. These maps describe how the structure functions vary with separation distance _and_ separation direction.\n",
    "\n",
    "**General procedure:**\n",
    "\n",
    "1. Set up plot environment & load/format the velocity data set\n",
    "2. Calculate 2D maps of structure functions\n",
    "3. Format output to create 2D (x-y) map of structure functions\n",
    "4. Plot 2D maps of structure functions\n",
    "5. Validate 2D-map structure functions against other modules"
   ]
  },
  {
   "cell_type": "markdown",
   "metadata": {},
   "source": [
    "## Setup plot environment & load/format the velocity data set \n",
    "We will use `h5py` to load a `.jld2` file, the output from `GeophysicalFlows.jl`, a numerical ocean simulator written in Julia. The data consists of 2D (horizontal) fields simulated  a periodic domain. There are multiple snapshots of this data, corresponding to different times. We will "
   ]
  },
  {
   "cell_type": "code",
   "execution_count": null,
   "metadata": {},
   "outputs": [],
   "source": [
    "import matplotlib_inline.backend_inline\n",
    "import seaborn as sns\n",
    "\n",
    "sns.set_style(style=\"white\")\n",
    "sns.set_context(\"talk\")\n",
    "matplotlib_inline.backend_inline.set_matplotlib_formats(\"png\", dpi=200)\n",
    "\n",
    "import h5py\n",
    "\n",
    "f = h5py.File('./2D_TwoLayer_Data.jld2', 'r')\n",
    "grid = f['grid']\n",
    "snapshots = f['snapshots']\n",
    "\n",
    "# Initialize the grid of x and y coordinates\n",
    "x = grid['x'][()]\n",
    "y = grid['y'][()]\n",
    "\n",
    "# Isolate the top layer [0] of the final snapshot ['9950'] for the example calculations\n",
    "u_data_for_example = snapshots['u']['9950'][0]\n",
    "v_data_for_example = snapshots['v']['9950'][0]"
   ]
  },
  {
   "cell_type": "markdown",
   "metadata": {},
   "source": [
    "Make a couple of quick plots to see the velocity fields."
   ]
  },
  {
   "cell_type": "markdown",
   "metadata": {},
   "source": [
    "## Calculate 2D maps of structure functions\n",
    "By default this calculates the velocity advective structure function, but we also specify the traditional longitudinal structure functions (LLL and LL; the latter is calculated by default when LLL is calculated)"
   ]
  },
  {
   "cell_type": "code",
   "execution_count": null,
   "metadata": {},
   "outputs": [],
   "source": [
    "import fluidsf\n",
    "\n",
    "sf_2D_maps = fluidsf.generate_2D_SF_maps(u_data_for_example,v_data_for_example, x, y, \n",
    "                                         traditional_type=[\"LLL\"])\n"
   ]
  },
  {
   "cell_type": "markdown",
   "metadata": {},
   "source": [
    "## Format output to create 2D (x-y) map of structure functions\n",
    "\n",
    "For computational efficiency, the package only calculates structure functions for separation vectors $\\bf{r}$ where $\\bf{r}\\cdot\\bf{\\hat{x}} \\ge 0$. The structure functions for the other half of the domain ($\\bf{r}\\cdot\\bf{\\hat{x}} \\lt 0$) can be diagnosed from reflectional symmetry, noting that the structure functions here have the property $SF(\\mathbf{r})=SF(-\\mathbf{r})$. "
   ]
  },
  {
   "cell_type": "code",
   "execution_count": null,
   "metadata": {},
   "outputs": [],
   "source": [
    "# Now we construct a 2D map of the advective structure function \n",
    "# To do this, note that a separation vector with a positive x and y component \n",
    "# is equivalent to a separation vector with negative x and y component, \n",
    "# similarly the negative-y positive-x quadrant maps to positive-y negative-x\n",
    "\n",
    "import matplotlib.pyplot as plt\n",
    "import numpy as np\n",
    "\n",
    "# First we construct these polar map arrays by appending these quadrants to the two already calculated\n",
    "\n",
    "TwoD_map_x_separations = np.append(-np.flip(sf_2D_maps['x_separations']), sf_2D_maps['x_separations'], axis=0)\n",
    "TwoD_map_y_separations = np.append(-np.flip(sf_2D_maps['y_separations']), sf_2D_maps['y_separations'], axis=0)\n",
    "TwoD_map_advective_SF = np.append(np.flip(sf_2D_maps['SF_velocity_advection_xy']), \n",
    "                                   sf_2D_maps['SF_velocity_advection_xy'], axis=0)\n",
    "TwoD_map_LL_SF = np.append(np.flip(sf_2D_maps['SF_LL_xy']), \n",
    "                                   sf_2D_maps['SF_LL_xy'], axis=0)\n",
    "TwoD_map_LLL_SF = np.append(np.flip(sf_2D_maps['SF_LLL_xy']), \n",
    "                                   sf_2D_maps['SF_LLL_xy'], axis=0)"
   ]
  },
  {
   "cell_type": "markdown",
   "metadata": {},
   "source": [
    "# Plot 2D maps of structure functions"
   ]
  },
  {
   "cell_type": "markdown",
   "metadata": {},
   "source": [
    "We plot maps of the three velocity-based statistics that were diagnosed by the package: \n",
    "\n",
    "- Advective structure function, \n",
    "- Third-order longitudinal structure function, and \n",
    "- Second-order longitudinal structure function"
   ]
  },
  {
   "cell_type": "code",
   "execution_count": null,
   "metadata": {},
   "outputs": [],
   "source": [
    "fig, axs = plt.subplots(1,3, figsize=(15,5), layout='constrained')\n",
    "\n",
    "Advective = axs[0].contourf(TwoD_map_x_separations,\n",
    "            TwoD_map_y_separations,\n",
    "            TwoD_map_advective_SF, \n",
    "            levels=np.linspace(-0.07, 0.07, 1001), \n",
    "                            cmap=plt.cm.seismic)\n",
    "axs[0].set_xlabel('x separation [m]')\n",
    "axs[0].set_ylabel('y separation [m]')\n",
    "axs[0].set_title('SF$_{adv}$ [m$^2$ s$^{-3}$]')\n",
    "\n",
    "cbar = fig.colorbar(Advective, ax=axs[0], location='bottom')\n",
    "cbar.set_ticks([-0.05, 0, 0.05])\n",
    "axs[0].axhline(0, color='black', linestyle='--')\n",
    "axs[0].axvline(0, color='black', linestyle='--')\n",
    "\n",
    "LLL = axs[1].contourf(TwoD_map_x_separations,\n",
    "            TwoD_map_y_separations,\n",
    "            TwoD_map_LLL_SF, \n",
    "            levels=np.linspace(-0.08, 0.08, 1001), \n",
    "                            cmap=plt.cm.BrBG)\n",
    "axs[1].set_xlabel('x separation [m]')\n",
    "axs[1].set_title('SF$_{LLL}$ [m$^3$ s$^{-3}$]')\n",
    "\n",
    "cbar = fig.colorbar(LLL, ax=axs[1], location='bottom')\n",
    "cbar.set_ticks([-0.05, 0, 0.05])\n",
    "axs[1].axhline(0, color='black', linestyle='--')\n",
    "axs[1].axvline(0, color='black', linestyle='--')\n",
    "\n",
    "LL = axs[2].contourf(TwoD_map_x_separations,\n",
    "            TwoD_map_y_separations,\n",
    "            TwoD_map_LL_SF, \n",
    "            levels=np.linspace(0, 2, 1001), \n",
    "                            cmap=plt.cm.Reds)\n",
    "axs[2].set_xlabel('x separation [m]')\n",
    "axs[2].set_title('SF$_{LL}$ [m$^2$ s$^{-2}$]')\n",
    "\n",
    "cbar = fig.colorbar(LL, ax=axs[2], location='bottom')\n",
    "cbar.set_ticks([0, 1, 2])\n",
    "axs[2].axhline(0, color='black', linestyle='--')\n",
    "axs[2].axvline(0, color='black', linestyle='--')"
   ]
  },
  {
   "cell_type": "markdown",
   "metadata": {},
   "source": [
    "### Plot some other useful output: separation distance and separation angle\n",
    "The 2D map modules also output separation distance and angle. These could be useful for users, for example when binning or performing analyses. We visualize them here\n",
    "to demonstrate how to access and use these arrays"
   ]
  },
  {
   "cell_type": "code",
   "execution_count": null,
   "metadata": {},
   "outputs": [],
   "source": [
    "fig, axs = plt.subplots(1,2, figsize=(9,4), layout='constrained')\n",
    "                        \n",
    "distances = axs[0].contourf(sf_2D_maps['x_separations'],\n",
    "            sf_2D_maps['y_separations'],\n",
    "            sf_2D_maps['separation_distances'], \n",
    "            1000, cmap=plt.cm.gist_stern)\n",
    "\n",
    "axs[0].set_title('Separation Distance [m]')\n",
    "axs[0].set_xlabel('x separation')\n",
    "axs[0].set_ylabel('y separation')\n",
    "\n",
    "# Make a colorbar for the ContourSet returned by the contourf call.\n",
    "cbar = fig.colorbar(distances, ax=axs[0])\n",
    "\n",
    "angles = axs[1].contourf(sf_2D_maps['x_separations'],\n",
    "            sf_2D_maps['y_separations'],\n",
    "            sf_2D_maps['separation_angles'], \n",
    "            1000, cmap=plt.cm.seismic)\n",
    "\n",
    "axs[1].set_title('Angle [radians]')\n",
    "axs[1].set_xlabel('x separation')\n",
    "\n",
    "# Make a colorbar for the ContourSet returned by the contourf call.\n",
    "cbar = fig.colorbar(angles, ax=axs[1])"
   ]
  },
  {
   "cell_type": "markdown",
   "metadata": {},
   "source": [
    "## Validate 2D-map structure functions against other modules\n",
    "\n",
    "First, let us check that the polar code calculates the same zonal (purely x-separated) and meridional (purely y-separated) advective structure functions as the core 1D calculation modules. Then we will repeat for the third- and second-order longitudinal structure functions. We will start by calculating the zonal and meridional structure functions directly."
   ]
  },
  {
   "cell_type": "code",
   "execution_count": null,
   "metadata": {},
   "outputs": [],
   "source": [
    "sf_zonal_meridional = fluidsf.generate_structure_functions(u_data_for_example, v_data_for_example, x, y, \n",
    "                                         traditional_type=[\"LLL\"])"
   ]
  },
  {
   "cell_type": "code",
   "execution_count": null,
   "metadata": {},
   "outputs": [],
   "source": [
    "# Contrasting advective structure functions\n",
    "\n",
    "import matplotlib.pyplot as plt\n",
    "\n",
    "fig, (ax1) = plt.subplots()\n",
    "\n",
    "ax1.semilogx(sf_zonal_meridional['x-diffs'], sf_zonal_meridional['SF_advection_velocity_x'],label=r'Zonal (direct calc.)',color='k')\n",
    "ax1.semilogx(sf_zonal_meridional['y-diffs'], sf_zonal_meridional['SF_advection_velocity_y'], label=r'Meridional (direct calc.)',\n",
    "             color='tab:blue')\n",
    "ax1.semilogx(sf_zonal_meridional['y-diffs'], sf_2D_maps['SF_velocity_advection_xy'][:,64], label=r'Zonal from polar',\n",
    "             color='tab:red', linestyle='dashed')\n",
    "ax1.semilogx(sf_zonal_meridional['y-diffs'], sf_2D_maps['SF_velocity_advection_xy'][0,64:], label=r'Meridional from polar',\n",
    "             color='y', linestyle='dashed')\n",
    "\n",
    "ax1.set_ylabel(r\"Advective SF [m$^2$ s$^{-3}$]\")\n",
    "ax1.set_xlabel(r\"Separation distance [m]\")\n",
    "ax1.set_xlim(3e-2,3e0)\n",
    "ax1.legend()\n",
    "plt.hlines(0,3e-2,3e0,color='k',linestyle='dashed',alpha=0.3)\n",
    "plt.title('Advective velocity structure functions');"
   ]
  },
  {
   "cell_type": "code",
   "execution_count": null,
   "metadata": {},
   "outputs": [],
   "source": [
    "# Then repeat check for third-order longitudinal SF\n",
    "\n",
    "import matplotlib.pyplot as plt\n",
    "\n",
    "fig, (ax1) = plt.subplots()\n",
    "\n",
    "ax1.semilogx(sf_zonal_meridional['x-diffs'], sf_zonal_meridional['SF_LLL_x'],label=r'Zonal (direct calc.)',color='k')\n",
    "ax1.semilogx(sf_zonal_meridional['y-diffs'], sf_zonal_meridional['SF_LLL_y'], label=r'Meridional (direct calc.)',\n",
    "             color='tab:blue')\n",
    "ax1.semilogx(sf_zonal_meridional['y-diffs'], sf_2D_maps['SF_LLL_xy'][:,64], label=r'Zonal from polar',\n",
    "             color='tab:red', linestyle='dashed')\n",
    "ax1.semilogx(sf_zonal_meridional['y-diffs'], sf_2D_maps['SF_LLL_xy'][0,64:], label=r'Meridional from polar',\n",
    "             color='y', linestyle='dashed')\n",
    "\n",
    "ax1.set_ylabel(r\"SF$_{LLL}$ [m$^2$ s$^{-3}$]\")\n",
    "ax1.set_xlabel(r\"Separation distance [m]\")\n",
    "ax1.set_xlim(3e-2,3e0)\n",
    "ax1.legend()\n",
    "plt.hlines(0,3e-2,3e0,color='k',linestyle='dashed',alpha=0.3)\n",
    "plt.title('Third-order Longitudinal velocity SFs');"
   ]
  },
  {
   "cell_type": "code",
   "execution_count": null,
   "metadata": {},
   "outputs": [],
   "source": [
    "# Then repeat check for second-order longitudinal SF\n",
    "\n",
    "import matplotlib.pyplot as plt\n",
    "\n",
    "fig, (ax1) = plt.subplots()\n",
    "\n",
    "ax1.semilogx(sf_zonal_meridional['x-diffs'], sf_zonal_meridional['SF_LL_x'],label=r'Zonal (direct calc.)',color='k')\n",
    "ax1.semilogx(sf_zonal_meridional['y-diffs'], sf_zonal_meridional['SF_LL_y'], label=r'Meridional (direct calc.)',\n",
    "             color='tab:blue')\n",
    "ax1.semilogx(sf_zonal_meridional['y-diffs'], sf_2D_maps['SF_LL_xy'][:,64], label=r'Zonal from polar',\n",
    "             color='tab:red', linestyle='dashed')\n",
    "ax1.semilogx(sf_zonal_meridional['y-diffs'], sf_2D_maps['SF_LL_xy'][0,64:], label=r'Meridional from polar',\n",
    "             color='y', linestyle='dashed')\n",
    "\n",
    "ax1.set_ylabel(r\"SF$_{LL}$ [m$^2$ s$^{-3}$]\")\n",
    "ax1.set_xlabel(r\"Separation distance [m]\")\n",
    "ax1.set_xlim(3e-2,3e0)\n",
    "ax1.legend()\n",
    "plt.hlines(0,3e-2,3e0,color='k',linestyle='dashed',alpha=0.3)\n",
    "plt.title('Second-order Longitudinal velocity SFs');"
   ]
  }
 ],
 "metadata": {
  "kernelspec": {
   "display_name": "Python 3",
   "language": "python",
   "name": "python3"
  },
  "language_info": {
   "codemirror_mode": {
    "name": "ipython",
    "version": 3
   },
   "file_extension": ".py",
   "mimetype": "text/x-python",
   "name": "python",
   "nbconvert_exporter": "python",
   "pygments_lexer": "ipython3",
   "version": "3.8.5"
  }
 },
 "nbformat": 4,
 "nbformat_minor": 2
}
