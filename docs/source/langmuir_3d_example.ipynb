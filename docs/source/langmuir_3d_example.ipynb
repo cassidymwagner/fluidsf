{
 "cells": [
  {
   "cell_type": "code",
   "execution_count": null,
   "metadata": {},
   "outputs": [],
   "source": [
    "#!pip install ../../../oceans_sf\n",
    "import warnings\n",
    "\n",
    "import matplotlib.pyplot as plt\n",
    "import matplotlib_inline.backend_inline\n",
    "import seaborn as sns\n",
    "import xarray as xr\n",
    "import numpy as np\n",
    "\n",
    "import oceans_sf as ocsf\n",
    "\n",
    "sns.set_style(style=\"white\")\n",
    "sns.set_context(\"talk\")\n",
    "\n",
    "matplotlib_inline.backend_inline.set_matplotlib_formats(\"retina\")\n",
    "warnings.filterwarnings(\"ignore\")"
   ]
  },
  {
   "cell_type": "code",
   "execution_count": null,
   "metadata": {},
   "outputs": [],
   "source": [
    "ds = xr.load_dataset(\"example_data/langmuir_fields.nc\")\n",
    "ds = ds.isel(time=1)"
   ]
  },
  {
   "cell_type": "code",
   "execution_count": null,
   "metadata": {},
   "outputs": [],
   "source": [
    "dx = np.abs(ds.xC[0] - ds.xC[1])\n",
    "dy = np.abs(ds.yC[0] - ds.yC[1])\n",
    "dz = np.abs(ds.zC[0] - ds.zC[1])\n",
    "\n",
    "dudz, dudy, dudx = np.gradient(ds.u, 1, 1, 1, axis=(0, 1, 2))\n",
    "dvdz, dvdy, dvdx = np.gradient(ds.v, 1, 1, 1, axis=(0, 1, 2))\n",
    "dwdz, dwdy, dwdx = np.gradient(ds.w, 1, 1, 1, axis=(0, 1, 2))"
   ]
  },
  {
   "cell_type": "code",
   "execution_count": null,
   "metadata": {},
   "outputs": [],
   "source": [
    "fig, ax = plt.subplots(2,3, figsize=(15,4),sharey=True)\n",
    "\n",
    "pc1 = ax[0,0].pcolormesh(ds.xC, ds.zC, ds.u[:,64,:], cmap=\"RdBu_r\",vmin=-0.05,vmax=0.05)\n",
    "pc2 = ax[0,1].pcolormesh(ds.xC, ds.zC, ds.v[:,64,:], cmap=\"RdBu_r\",vmin=-0.05,vmax=0.05)\n",
    "pc3 = ax[0,2].pcolormesh(ds.xC, ds.zF, ds.w[:,64,:], cmap=\"RdBu_r\",vmin=-0.05,vmax=0.05)\n",
    "pc4 = ax[1,0].pcolormesh(ds.xC, ds.zC, dudz[:,64,:], cmap=\"RdBu_r\",vmin=-0.005,vmax=0.005)\n",
    "pc5 = ax[1,1].pcolormesh(ds.xC, ds.zC, dvdz[:,64,:], cmap=\"RdBu_r\",vmin=-0.005,vmax=0.005)\n",
    "pc6 = ax[1,2].pcolormesh(ds.xC, ds.zF, dwdz[:,64,:], cmap=\"RdBu_r\",vmin=-0.005,vmax=0.005)\n",
    "\n",
    "\n",
    "ax[0,0].plot([0, 128], [-60, -60], ':')\n",
    "ax[0,1].plot([0, 128], [-60, -60], ':')\n",
    "ax[0,2].plot([0, 128], [-60, -60], ':')\n",
    "ax[1,0].plot([0, 128], [-60, -60], ':')\n",
    "ax[1,1].plot([0, 128], [-60, -60], ':')\n",
    "ax[1,2].plot([0, 128], [-60, -60], ':')\n",
    "\n",
    "\n",
    "ax[0,0].set_ylabel(\"z [m]\")\n",
    "ax[1,0].set_ylabel(\"z [m]\")\n",
    "ax[1,0].set_xlabel(\"x [m]\")\n",
    "ax[1,1].set_xlabel(\"x [m]\")\n",
    "ax[1,2].set_xlabel(\"x [m]\")\n",
    "\n",
    "ax[0,0].set_title(\"u\")\n",
    "ax[0,1].set_title(\"v\")\n",
    "ax[0,2].set_title(\"w\")\n",
    "ax[1,0].set_title(\"du/dz\")\n",
    "ax[1,1].set_title(\"dv/dz\")\n",
    "ax[1,2].set_title(\"dw/dz\")\n",
    "\n",
    "ax[0,0].set_xticks([]), ax[0,1].set_xticks([]), ax[0,2].set_xticks([]);\n",
    "\n",
    "ax[0,0].set_ylim([-70,0])\n",
    "\n",
    "#cbar = fig.colorbar(pc1, ax=ax, orientation=\"vertical\",label='[m/s]')"
   ]
  },
  {
   "cell_type": "code",
   "execution_count": null,
   "metadata": {},
   "outputs": [],
   "source": [
    "fig, ax = plt.subplots(3,3, figsize=(15,14),sharey=True)\n",
    "\n",
    "pc1 = ax[0,0].pcolormesh(ds.xC, ds.yC, ds.u[-2,:,:], cmap=\"RdBu_r\",vmin=-0.05,vmax=0.05)\n",
    "pc2 = ax[0,1].pcolormesh(ds.xC, ds.yC, ds.v[-2,:,:], cmap=\"RdBu_r\",vmin=-0.05,vmax=0.05)\n",
    "pc3 = ax[0,2].pcolormesh(ds.xC, ds.yC, ds.w[-2,:,:], cmap=\"RdBu_r\",vmin=-0.05,vmax=0.05)\n",
    "pc4 = ax[1,0].pcolormesh(ds.xC, ds.yC, dudx[-2,:,:], cmap=\"RdBu_r\",vmin=-0.005,vmax=0.005)\n",
    "pc5 = ax[1,1].pcolormesh(ds.xC, ds.yC, dvdx[-2,:,:], cmap=\"RdBu_r\",vmin=-0.005,vmax=0.005)\n",
    "pc6 = ax[1,2].pcolormesh(ds.xC, ds.yC, dwdx[-2,:,:], cmap=\"RdBu_r\",vmin=-0.005,vmax=0.005)\n",
    "pc7 = ax[2,0].pcolormesh(ds.xC, ds.yC, dudy[-2,:,:], cmap=\"RdBu_r\",vmin=-0.005,vmax=0.005)\n",
    "pc8 = ax[2,1].pcolormesh(ds.xC, ds.yC, dvdy[-2,:,:], cmap=\"RdBu_r\",vmin=-0.005,vmax=0.005)\n",
    "pc9 = ax[2,2].pcolormesh(ds.xC, ds.yC, dwdy[-2,:,:], cmap=\"RdBu_r\",vmin=-0.005,vmax=0.005)\n",
    "\n",
    "\n",
    "ax[0,0].set_ylabel(\"y [m]\")\n",
    "ax[1,0].set_ylabel(\"y [m]\")\n",
    "ax[2,0].set_ylabel(\"y [m]\")\n",
    "ax[2,0].set_xlabel(\"x [m]\")\n",
    "ax[2,1].set_xlabel(\"x [m]\")\n",
    "ax[2,2].set_xlabel(\"x [m]\")\n",
    "\n",
    "ax[0,0].set_title(\"u\")\n",
    "ax[0,1].set_title(\"v\")\n",
    "ax[0,2].set_title(\"w\")\n",
    "ax[1,0].set_title(\"du/dx\")\n",
    "ax[1,1].set_title(\"dv/dx\")\n",
    "ax[1,2].set_title(\"dw/dx\")\n",
    "ax[2,0].set_title(\"du/dy\")\n",
    "ax[2,1].set_title(\"dv/dy\")\n",
    "ax[2,2].set_title(\"dw/dy\")\n",
    "\n",
    "ax[0,0].set_xticks([]), ax[0,1].set_xticks([]), ax[0,2].set_xticks([]);\n",
    "ax[1,0].set_xticks([]), ax[1,1].set_xticks([]), ax[1,2].set_xticks([]);\n",
    "\n",
    "cbar = fig.colorbar(pc1, ax=ax, orientation=\"vertical\",label='[m/s]')"
   ]
  },
  {
   "cell_type": "markdown",
   "metadata": {},
   "source": [
    "After visualizing the three-dimensional velocity fields and their gradients, we are ready to calculate several different structure functions. We do this by calling the `ocsf.generate_structure_functions_3d` function and feeding in the velocity fields, grid information, and desired structure functions. _Note that the advective structure function is calculated by default, and we only use the upper 60 grid points (or meters) for this analysis, since we are interested in upper ocean boundary layer dynamics._"
   ]
  },
  {
   "cell_type": "code",
   "execution_count": null,
   "metadata": {},
   "outputs": [],
   "source": [
    "nn = 128\n",
    "\n",
    "sf = ocsf.generate_structure_functions_3d(\n",
    "    ds.u.values[-60:,:,:], \n",
    "    ds.v.values[-60:,:,:], \n",
    "    ds.w.values[-60:,:,:], \n",
    "    ds.xF.values[:], \n",
    "    ds.yF.values[:], \n",
    "    ds.zF.values[-60:], \n",
    "    traditional_type=['LL','LLL','LTT'],\n",
    "    boundary=[\"periodic-x\", \"periodic-y\"]\n",
    ")"
   ]
  },
  {
   "cell_type": "markdown",
   "metadata": {},
   "source": [
    "The package has now created a library of structure functions, with each structure function calculated using three different separation directions (`x`, `y`, or `z`). Below we plot the second- and third-order longitudinal structure functions, and the advective structure function, in each of these seapration directions. Note that the longitudinal component of velocity varies with the separation direction (`x`$\\rightarrow$ `u`, `y`$\\rightarrow$ `v`, and `z`$\\rightarrow$ `w`). "
   ]
  },
  {
   "cell_type": "code",
   "execution_count": null,
   "metadata": {},
   "outputs": [],
   "source": [
    "fig, ax = plt.subplots(1,3, figsize=(16,4),sharey=False)\n",
    "\n",
    "ax[0].loglog(sf['x-diffs'],abs(sf['SF_LL_x']),color='tab:blue',label='Along-wind (x)')\n",
    "ax[0].loglog(sf['y-diffs'],abs(sf['SF_LL_y']),color='tab:red',label='Cross-wind (y)')\n",
    "ax[0].loglog(sf['z-diffs'],abs(sf['SF_LL_z']),color='tab:green',label='Vertical (z)')\n",
    "\n",
    "ax[0].loglog(sf['x-diffs'],-(sf['SF_LL_x']),color='tab:blue',marker='x',linestyle='None')\n",
    "ax[0].loglog(sf['y-diffs'],-(sf['SF_LL_y']),color='tab:red',marker='x',linestyle='None')\n",
    "ax[0].loglog(sf['z-diffs'],-(sf['SF_LL_z']),color='tab:green',marker='x',linestyle='None')\n",
    "\n",
    "ax[0].set_xlabel('Separation distance [m]')\n",
    "ax[0].set_title('Second-order SF$_{LL}$ [m$^2$ s$^{-2}$]')\n",
    "ax[0].set_ylim([1e-6, 2e-4])\n",
    "ax[0].set_xlim([1, 100])\n",
    "ax[0].set_ylabel('SF Values [various units]')\n",
    "ax[0].legend();\n",
    "\n",
    "ax[1].loglog(sf['x-diffs'],abs(sf['SF_LLL_x']),color='tab:blue',label='Positive')\n",
    "ax[1].loglog(sf['y-diffs'],abs(sf['SF_LLL_y']),color='tab:red')\n",
    "ax[1].loglog(sf['z-diffs'],abs(sf['SF_LLL_z']),color='tab:green')\n",
    "\n",
    "ax[1].loglog(sf['x-diffs'],-(sf['SF_LLL_x']),color='tab:blue',marker='x',linestyle='None',label='Negative')\n",
    "ax[1].loglog(sf['y-diffs'],-(sf['SF_LLL_y']),color='tab:red',marker='x',linestyle='None')\n",
    "ax[1].loglog(sf['z-diffs'],-(sf['SF_LLL_z']),color='tab:green',marker='x',linestyle='None')\n",
    "\n",
    "ax[1].set_xlabel('Separation distance [m]')\n",
    "ax[1].set_title('Third-order SF$_{LLL}$ [m$^3$ s$^{-3}$]')\n",
    "ax[1].set_ylim([1e-10, 1e-6])\n",
    "ax[1].set_xlim([1, 100])\n",
    "ax[1].legend();\n",
    "\n",
    "ax[2].loglog(sf['x-diffs'],abs(sf['SF_advection_velocity_x']),color='tab:blue',label='Positive')\n",
    "ax[2].loglog(sf['y-diffs'],abs(sf['SF_advection_velocity_y']),color='tab:red')\n",
    "ax[2].loglog(sf['z-diffs'],abs(sf['SF_advection_velocity_z']),color='tab:green')\n",
    "\n",
    "ax[2].loglog(sf['x-diffs'],-(sf['SF_advection_velocity_x']),color='tab:blue',marker='x',label='Negative')\n",
    "ax[2].loglog(sf['y-diffs'],-(sf['SF_advection_velocity_y']),color='tab:red',marker='x',linestyle='None')\n",
    "ax[2].loglog(sf['z-diffs'],-(sf['SF_advection_velocity_z']),color='tab:green',marker='x',linestyle='None')\n",
    "\n",
    "ax[2].set_xlabel('Separation distance [m]')\n",
    "ax[2].set_title('Advective SF [m$^2$ s$^{-3}$]')\n",
    "ax[2].set_ylim([1e-10, 1e-6])\n",
    "ax[2].set_xlim([1, 100])"
   ]
  }
 ],
 "metadata": {
  "kernelspec": {
   "display_name": "Python 3",
   "language": "python",
   "name": "python3"
  },
  "language_info": {
   "codemirror_mode": {
    "name": "ipython",
    "version": 3
   },
   "file_extension": ".py",
   "mimetype": "text/x-python",
   "name": "python",
   "nbconvert_exporter": "python",
   "pygments_lexer": "ipython3",
   "version": "3.8.5"
  }
 },
 "nbformat": 4,
 "nbformat_minor": 2
}
